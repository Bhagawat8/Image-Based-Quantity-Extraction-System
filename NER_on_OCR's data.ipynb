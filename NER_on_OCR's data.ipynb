{
 "cells": [
  {
   "cell_type": "code",
   "execution_count": 1,
   "metadata": {
    "_cell_guid": "b1076dfc-b9ad-4769-8c92-a6c4dae69d19",
    "_uuid": "8f2839f25d086af736a60e9eeb907d3b93b6e0e5",
    "execution": {
     "iopub.execute_input": "2024-11-24T14:50:16.537129Z",
     "iopub.status.busy": "2024-11-24T14:50:16.536891Z",
     "iopub.status.idle": "2024-11-24T14:50:17.545280Z",
     "shell.execute_reply": "2024-11-24T14:50:17.544410Z",
     "shell.execute_reply.started": "2024-11-24T14:50:16.537103Z"
    }
   },
   "outputs": [
    {
     "name": "stdout",
     "output_type": "stream",
     "text": [
      "/kaggle/input/preprocessed-ocr-data/preprocessed_ocr_train_data.csv\n",
      "/kaggle/input/preprocessed-ocr-data/preprocessed_ocr_test_data.csv\n",
      "/kaggle/input/final-data-btp/Final_train_data.csv\n",
      "/kaggle/input/final-data-btp/Final_test_data.csv\n",
      "/kaggle/input/btp_2epoch_checkpoints/transformers/default/1/config.json\n",
      "/kaggle/input/btp_2epoch_checkpoints/transformers/default/1/trainer_state.json\n",
      "/kaggle/input/btp_2epoch_checkpoints/transformers/default/1/training_args.bin\n",
      "/kaggle/input/btp_2epoch_checkpoints/transformers/default/1/scheduler.pt\n",
      "/kaggle/input/btp_2epoch_checkpoints/transformers/default/1/model.safetensors\n",
      "/kaggle/input/btp_2epoch_checkpoints/transformers/default/1/optimizer.pt\n",
      "/kaggle/input/btp_2epoch_checkpoints/transformers/default/1/rng_state.pth\n",
      "/kaggle/input/btp_2epoch_checkpoints/transformers/default/1/generation_config.json\n"
     ]
    }
   ],
   "source": [
    "# This Python 3 environment comes with many helpful analytics libraries installed\n",
    "# It is defined by the kaggle/python Docker image: https://github.com/kaggle/docker-python\n",
    "# For example, here's several helpful packages to load\n",
    "\n",
    "import numpy as np # linear algebra\n",
    "import pandas as pd # data processing, CSV file I/O (e.g. pd.read_csv)\n",
    "\n",
    "import os\n",
    "for dirname, _, filenames in os.walk('/kaggle/input'):\n",
    "    for filename in filenames:\n",
    "        print(os.path.join(dirname, filename))\n",
    "\n",
    "# You can write up to 20GB to the current directory (/kaggle/working/) that gets preserved as output when you create a version using \"Save & Run All\" \n",
    "# You can also write temporary files to /kaggle/temp/, but they won't be saved outside of the current session"
   ]
  },
  {
   "cell_type": "code",
   "execution_count": 2,
   "metadata": {
    "execution": {
     "iopub.execute_input": "2024-11-24T14:50:34.642247Z",
     "iopub.status.busy": "2024-11-24T14:50:34.641904Z",
     "iopub.status.idle": "2024-11-24T14:50:53.875971Z",
     "shell.execute_reply": "2024-11-24T14:50:53.875311Z",
     "shell.execute_reply.started": "2024-11-24T14:50:34.642215Z"
    }
   },
   "outputs": [],
   "source": [
    "import pandas as pd\n",
    "from sklearn.model_selection import train_test_split\n",
    "from transformers import AutoTokenizer, AutoModelForCausalLM, TrainingArguments, Trainer\n",
    "import torch\n",
    "from torch.utils.data import Dataset"
   ]
  },
  {
   "cell_type": "code",
   "execution_count": 3,
   "metadata": {
    "execution": {
     "iopub.execute_input": "2024-11-24T14:50:53.878649Z",
     "iopub.status.busy": "2024-11-24T14:50:53.877557Z",
     "iopub.status.idle": "2024-11-24T14:50:53.892423Z",
     "shell.execute_reply": "2024-11-24T14:50:53.891603Z",
     "shell.execute_reply.started": "2024-11-24T14:50:53.878608Z"
    }
   },
   "outputs": [],
   "source": [
    "import torch\n",
    "from transformers import (\n",
    "    AutoTokenizer,\n",
    "    AutoModelForSeq2SeqLM,\n",
    "    Seq2SeqTrainingArguments,\n",
    "    Seq2SeqTrainer,\n",
    ")\n",
    "from torch.utils.data import Dataset\n",
    "from sklearn.model_selection import train_test_split\n",
    "import pandas as pd\n",
    "import os\n",
    "import logging\n",
    "\n",
    "# Set up logging\n",
    "logging.basicConfig(\n",
    "    filename=\"training_log.log\",\n",
    "    level=logging.INFO,\n",
    "    format=\"%(asctime)s - %(message)s\",\n",
    "    datefmt=\"%Y-%m-%d %H:%M:%S\",\n",
    ")\n",
    "logger = logging.getLogger()\n"
   ]
  },
  {
   "cell_type": "code",
   "execution_count": 4,
   "metadata": {
    "execution": {
     "iopub.execute_input": "2024-11-24T14:50:53.893685Z",
     "iopub.status.busy": "2024-11-24T14:50:53.893441Z",
     "iopub.status.idle": "2024-11-24T14:50:53.910030Z",
     "shell.execute_reply": "2024-11-24T14:50:53.909306Z",
     "shell.execute_reply.started": "2024-11-24T14:50:53.893661Z"
    }
   },
   "outputs": [],
   "source": [
    "class EntityValueDataset(Dataset):\n",
    "    def __init__(self, encodings, labels):\n",
    "        self.encodings = encodings\n",
    "        self.labels = labels\n",
    "\n",
    "    def __getitem__(self, idx):\n",
    "        item = {key: torch.tensor(val[idx]) for key, val in self.encodings.items()}\n",
    "        item[\"labels\"] = torch.tensor(self.labels[\"input_ids\"][idx])\n",
    "        return item\n",
    "\n",
    "    def __len__(self):\n",
    "        return len(self.labels[\"input_ids\"])\n",
    "\n",
    "class EntityValueDatasetTest(Dataset):\n",
    "    def __init__(self, encodings):\n",
    "        self.encodings = encodings\n",
    "\n",
    "    def __getitem__(self, idx):\n",
    "        item = {key: torch.tensor(val[idx]) for key, val in self.encodings.items()}\n",
    "        return item\n",
    "\n",
    "    def __len__(self):\n",
    "        return len(next(iter(self.encodings.values())))\n",
    "\n",
    "def prepare_data(df):\n",
    "    inputs = []\n",
    "    targets = []\n",
    "    for _, row in df.iterrows():\n",
    "        input_text = f\"Group ID: {row['group_id']}, Entity Name: {row['entity_name']}, Text: {row['cleaned_extracted_values']}\"\n",
    "        inputs.append(f\"Extract {row['entity_name']} from: {input_text}\")\n",
    "        targets.append(str(row[\"entity_value\"]))\n",
    "    return inputs, targets\n"
   ]
  },
  {
   "cell_type": "code",
   "execution_count": 5,
   "metadata": {
    "execution": {
     "iopub.execute_input": "2024-11-24T14:50:53.912014Z",
     "iopub.status.busy": "2024-11-24T14:50:53.911769Z",
     "iopub.status.idle": "2024-11-24T14:50:53.924997Z",
     "shell.execute_reply": "2024-11-24T14:50:53.924292Z",
     "shell.execute_reply.started": "2024-11-24T14:50:53.911990Z"
    }
   },
   "outputs": [],
   "source": [
    "def calculate_f1_score(ground_truths, predictions):\n",
    "    true_positives = 0\n",
    "    false_positives = 0\n",
    "    false_negatives = 0\n",
    "\n",
    "    for gt, pred in zip(ground_truths, predictions):\n",
    "        if pred != \"\" and gt != \"\" and pred == gt:\n",
    "            true_positives += 1\n",
    "        elif pred != \"\" and gt != \"\" and pred != gt:\n",
    "            false_positives += 1\n",
    "        elif pred != \"\" and gt == \"\":\n",
    "            false_positives += 1\n",
    "        elif pred == \"\" and gt != \"\":\n",
    "            false_negatives += 1\n",
    "\n",
    "    precision = (\n",
    "        true_positives / (true_positives + false_positives)\n",
    "        if (true_positives + false_positives) > 0\n",
    "        else 0\n",
    "    )\n",
    "    recall = (\n",
    "        true_positives / (true_positives + false_negatives)\n",
    "        if (true_positives + false_negatives) > 0\n",
    "        else 0\n",
    "    )\n",
    "    f1_score = (2 * precision * recall) / (precision + recall) if (precision + recall) > 0 else 0\n",
    "    return f1_score\n"
   ]
  },
  {
   "cell_type": "code",
   "execution_count": 6,
   "metadata": {
    "execution": {
     "iopub.execute_input": "2024-11-24T14:50:53.926108Z",
     "iopub.status.busy": "2024-11-24T14:50:53.925862Z",
     "iopub.status.idle": "2024-11-24T14:51:07.120332Z",
     "shell.execute_reply": "2024-11-24T14:51:07.119390Z",
     "shell.execute_reply.started": "2024-11-24T14:50:53.926080Z"
    }
   },
   "outputs": [],
   "source": [
    "def batch_predict(model, tokenizer, dataset, batch_size=16):\n",
    "    device = torch.device(\"cuda\" if torch.cuda.is_available() else \"cpu\")\n",
    "    model.to(device)\n",
    "    model.eval()\n",
    "\n",
    "    predictions = []\n",
    "    dataloader = torch.utils.data.DataLoader(dataset, batch_size=batch_size, shuffle=False)\n",
    "    with torch.no_grad():\n",
    "        for batch in dataloader:\n",
    "            inputs = {k: v.to(device) for k, v in batch.items() if k != \"labels\"}\n",
    "            outputs = model.generate(**inputs, max_length=32, do_sample=False)\n",
    "            predictions.extend([tokenizer.decode(output, skip_special_tokens=True) for output in outputs])\n",
    "    return predictions\n",
    "\n",
    "\n",
    "train_df = pd.read_csv(\"/kaggle/input/final-data-btp/Final_train_data.csv\")\n",
    "test_df = pd.read_csv(\"/kaggle/input/final-data-btp/Final_test_data.csv\")\n",
    "\n",
    "# Filter the training dataset\n",
    "pattern = r'^\\d+(\\.\\d+)?\\s+[a-zA-Z]+$'\n",
    "train_df = train_df[train_df['entity_value'].str.match(pattern, na=False)]\n",
    "train_df = train_df[~train_df['entity_value'].str.contains('horsepower', case=False, na=False)]\n",
    "\n",
    "train_inputs, train_targets = prepare_data(train_df)\n",
    "test_inputs, test_targets = prepare_data(test_df)\n",
    "\n",
    "train_inputs, eval_inputs, train_targets, eval_targets = train_test_split(train_inputs, train_targets, test_size=0.1, random_state=42)"
   ]
  },
  {
   "cell_type": "code",
   "execution_count": 7,
   "metadata": {
    "execution": {
     "iopub.execute_input": "2024-11-24T14:51:07.122126Z",
     "iopub.status.busy": "2024-11-24T14:51:07.121851Z",
     "iopub.status.idle": "2024-11-24T14:51:54.563658Z",
     "shell.execute_reply": "2024-11-24T14:51:54.562944Z",
     "shell.execute_reply.started": "2024-11-24T14:51:07.122101Z"
    }
   },
   "outputs": [
    {
     "data": {
      "application/vnd.jupyter.widget-view+json": {
       "model_id": "4526fa2af78a4362bb18b3655398fe68",
       "version_major": 2,
       "version_minor": 0
      },
      "text/plain": [
       "config.json:   0%|          | 0.00/1.21k [00:00<?, ?B/s]"
      ]
     },
     "metadata": {},
     "output_type": "display_data"
    },
    {
     "data": {
      "application/vnd.jupyter.widget-view+json": {
       "model_id": "21f563f66a0941c5b38130ad4efd12a8",
       "version_major": 2,
       "version_minor": 0
      },
      "text/plain": [
       "spiece.model:   0%|          | 0.00/792k [00:00<?, ?B/s]"
      ]
     },
     "metadata": {},
     "output_type": "display_data"
    },
    {
     "data": {
      "application/vnd.jupyter.widget-view+json": {
       "model_id": "f0efafd6c1fb4abb86f5fba7c191306f",
       "version_major": 2,
       "version_minor": 0
      },
      "text/plain": [
       "tokenizer.json:   0%|          | 0.00/1.39M [00:00<?, ?B/s]"
      ]
     },
     "metadata": {},
     "output_type": "display_data"
    },
    {
     "name": "stderr",
     "output_type": "stream",
     "text": [
      "/opt/conda/lib/python3.10/site-packages/transformers/tokenization_utils_base.py:1617: FutureWarning: `clean_up_tokenization_spaces` was not set. It will be set to `True` by default. This behavior will be deprecated in transformers v4.45, and will be then set to `False` by default. For more details check this issue: https://github.com/huggingface/transformers/issues/31884\n",
      "  warnings.warn(\n"
     ]
    }
   ],
   "source": [
    "\n",
    "model_name = \"google-t5/t5-base\"\n",
    "tokenizer = AutoTokenizer.from_pretrained(model_name)\n",
    "\n",
    "# Tokenize data\n",
    "train_encodings = tokenizer(train_inputs, truncation=True, padding=True, max_length=300)\n",
    "train_target_encodings = tokenizer(train_targets, truncation=True, padding=True, max_length=32)\n",
    "\n",
    "eval_encodings = tokenizer(eval_inputs, truncation=True, padding=True, max_length=300)\n",
    "eval_target_encodings = tokenizer(eval_targets, truncation=True, padding=True, max_length=32)\n",
    "\n",
    "test_encodings = tokenizer(test_inputs, truncation=True, padding=True, max_length=300)\n",
    "\n",
    "# Create datasets\n",
    "train_dataset = EntityValueDataset(train_encodings, train_target_encodings)\n",
    "eval_dataset = EntityValueDataset(eval_encodings, eval_target_encodings)\n",
    "test_dataset = EntityValueDatasetTest(test_encodings)\n",
    "\n"
   ]
  },
  {
   "cell_type": "code",
   "execution_count": 8,
   "metadata": {
    "execution": {
     "iopub.execute_input": "2024-11-24T05:02:40.778909Z",
     "iopub.status.busy": "2024-11-24T05:02:40.778548Z",
     "iopub.status.idle": "2024-11-24T05:02:46.603566Z",
     "shell.execute_reply": "2024-11-24T05:02:46.602774Z",
     "shell.execute_reply.started": "2024-11-24T05:02:40.778875Z"
    }
   },
   "outputs": [
    {
     "data": {
      "application/vnd.jupyter.widget-view+json": {
       "model_id": "d30162acfc18416488c4f1f863cb1ce8",
       "version_major": 2,
       "version_minor": 0
      },
      "text/plain": [
       "model.safetensors:   0%|          | 0.00/892M [00:00<?, ?B/s]"
      ]
     },
     "metadata": {},
     "output_type": "display_data"
    },
    {
     "data": {
      "application/vnd.jupyter.widget-view+json": {
       "model_id": "7272454fa9834a7c97104774b0ae000f",
       "version_major": 2,
       "version_minor": 0
      },
      "text/plain": [
       "generation_config.json:   0%|          | 0.00/147 [00:00<?, ?B/s]"
      ]
     },
     "metadata": {},
     "output_type": "display_data"
    },
    {
     "data": {
      "text/plain": [
       "T5ForConditionalGeneration(\n",
       "  (shared): Embedding(32128, 768)\n",
       "  (encoder): T5Stack(\n",
       "    (embed_tokens): Embedding(32128, 768)\n",
       "    (block): ModuleList(\n",
       "      (0): T5Block(\n",
       "        (layer): ModuleList(\n",
       "          (0): T5LayerSelfAttention(\n",
       "            (SelfAttention): T5Attention(\n",
       "              (q): Linear(in_features=768, out_features=768, bias=False)\n",
       "              (k): Linear(in_features=768, out_features=768, bias=False)\n",
       "              (v): Linear(in_features=768, out_features=768, bias=False)\n",
       "              (o): Linear(in_features=768, out_features=768, bias=False)\n",
       "              (relative_attention_bias): Embedding(32, 12)\n",
       "            )\n",
       "            (layer_norm): T5LayerNorm()\n",
       "            (dropout): Dropout(p=0.1, inplace=False)\n",
       "          )\n",
       "          (1): T5LayerFF(\n",
       "            (DenseReluDense): T5DenseActDense(\n",
       "              (wi): Linear(in_features=768, out_features=3072, bias=False)\n",
       "              (wo): Linear(in_features=3072, out_features=768, bias=False)\n",
       "              (dropout): Dropout(p=0.1, inplace=False)\n",
       "              (act): ReLU()\n",
       "            )\n",
       "            (layer_norm): T5LayerNorm()\n",
       "            (dropout): Dropout(p=0.1, inplace=False)\n",
       "          )\n",
       "        )\n",
       "      )\n",
       "      (1-11): 11 x T5Block(\n",
       "        (layer): ModuleList(\n",
       "          (0): T5LayerSelfAttention(\n",
       "            (SelfAttention): T5Attention(\n",
       "              (q): Linear(in_features=768, out_features=768, bias=False)\n",
       "              (k): Linear(in_features=768, out_features=768, bias=False)\n",
       "              (v): Linear(in_features=768, out_features=768, bias=False)\n",
       "              (o): Linear(in_features=768, out_features=768, bias=False)\n",
       "            )\n",
       "            (layer_norm): T5LayerNorm()\n",
       "            (dropout): Dropout(p=0.1, inplace=False)\n",
       "          )\n",
       "          (1): T5LayerFF(\n",
       "            (DenseReluDense): T5DenseActDense(\n",
       "              (wi): Linear(in_features=768, out_features=3072, bias=False)\n",
       "              (wo): Linear(in_features=3072, out_features=768, bias=False)\n",
       "              (dropout): Dropout(p=0.1, inplace=False)\n",
       "              (act): ReLU()\n",
       "            )\n",
       "            (layer_norm): T5LayerNorm()\n",
       "            (dropout): Dropout(p=0.1, inplace=False)\n",
       "          )\n",
       "        )\n",
       "      )\n",
       "    )\n",
       "    (final_layer_norm): T5LayerNorm()\n",
       "    (dropout): Dropout(p=0.1, inplace=False)\n",
       "  )\n",
       "  (decoder): T5Stack(\n",
       "    (embed_tokens): Embedding(32128, 768)\n",
       "    (block): ModuleList(\n",
       "      (0): T5Block(\n",
       "        (layer): ModuleList(\n",
       "          (0): T5LayerSelfAttention(\n",
       "            (SelfAttention): T5Attention(\n",
       "              (q): Linear(in_features=768, out_features=768, bias=False)\n",
       "              (k): Linear(in_features=768, out_features=768, bias=False)\n",
       "              (v): Linear(in_features=768, out_features=768, bias=False)\n",
       "              (o): Linear(in_features=768, out_features=768, bias=False)\n",
       "              (relative_attention_bias): Embedding(32, 12)\n",
       "            )\n",
       "            (layer_norm): T5LayerNorm()\n",
       "            (dropout): Dropout(p=0.1, inplace=False)\n",
       "          )\n",
       "          (1): T5LayerCrossAttention(\n",
       "            (EncDecAttention): T5Attention(\n",
       "              (q): Linear(in_features=768, out_features=768, bias=False)\n",
       "              (k): Linear(in_features=768, out_features=768, bias=False)\n",
       "              (v): Linear(in_features=768, out_features=768, bias=False)\n",
       "              (o): Linear(in_features=768, out_features=768, bias=False)\n",
       "            )\n",
       "            (layer_norm): T5LayerNorm()\n",
       "            (dropout): Dropout(p=0.1, inplace=False)\n",
       "          )\n",
       "          (2): T5LayerFF(\n",
       "            (DenseReluDense): T5DenseActDense(\n",
       "              (wi): Linear(in_features=768, out_features=3072, bias=False)\n",
       "              (wo): Linear(in_features=3072, out_features=768, bias=False)\n",
       "              (dropout): Dropout(p=0.1, inplace=False)\n",
       "              (act): ReLU()\n",
       "            )\n",
       "            (layer_norm): T5LayerNorm()\n",
       "            (dropout): Dropout(p=0.1, inplace=False)\n",
       "          )\n",
       "        )\n",
       "      )\n",
       "      (1-11): 11 x T5Block(\n",
       "        (layer): ModuleList(\n",
       "          (0): T5LayerSelfAttention(\n",
       "            (SelfAttention): T5Attention(\n",
       "              (q): Linear(in_features=768, out_features=768, bias=False)\n",
       "              (k): Linear(in_features=768, out_features=768, bias=False)\n",
       "              (v): Linear(in_features=768, out_features=768, bias=False)\n",
       "              (o): Linear(in_features=768, out_features=768, bias=False)\n",
       "            )\n",
       "            (layer_norm): T5LayerNorm()\n",
       "            (dropout): Dropout(p=0.1, inplace=False)\n",
       "          )\n",
       "          (1): T5LayerCrossAttention(\n",
       "            (EncDecAttention): T5Attention(\n",
       "              (q): Linear(in_features=768, out_features=768, bias=False)\n",
       "              (k): Linear(in_features=768, out_features=768, bias=False)\n",
       "              (v): Linear(in_features=768, out_features=768, bias=False)\n",
       "              (o): Linear(in_features=768, out_features=768, bias=False)\n",
       "            )\n",
       "            (layer_norm): T5LayerNorm()\n",
       "            (dropout): Dropout(p=0.1, inplace=False)\n",
       "          )\n",
       "          (2): T5LayerFF(\n",
       "            (DenseReluDense): T5DenseActDense(\n",
       "              (wi): Linear(in_features=768, out_features=3072, bias=False)\n",
       "              (wo): Linear(in_features=3072, out_features=768, bias=False)\n",
       "              (dropout): Dropout(p=0.1, inplace=False)\n",
       "              (act): ReLU()\n",
       "            )\n",
       "            (layer_norm): T5LayerNorm()\n",
       "            (dropout): Dropout(p=0.1, inplace=False)\n",
       "          )\n",
       "        )\n",
       "      )\n",
       "    )\n",
       "    (final_layer_norm): T5LayerNorm()\n",
       "    (dropout): Dropout(p=0.1, inplace=False)\n",
       "  )\n",
       "  (lm_head): Linear(in_features=768, out_features=32128, bias=False)\n",
       ")"
      ]
     },
     "execution_count": 8,
     "metadata": {},
     "output_type": "execute_result"
    }
   ],
   "source": [
    "# Load model\n",
    "model = AutoModelForSeq2SeqLM.from_pretrained(model_name)\n",
    "device = torch.device(\"cuda\" if torch.cuda.is_available() else \"cpu\")\n",
    "model.to(device)"
   ]
  },
  {
   "cell_type": "code",
   "execution_count": 9,
   "metadata": {
    "execution": {
     "iopub.execute_input": "2024-11-24T05:02:46.606122Z",
     "iopub.status.busy": "2024-11-24T05:02:46.605511Z",
     "iopub.status.idle": "2024-11-24T09:04:16.203848Z",
     "shell.execute_reply": "2024-11-24T09:04:16.202359Z",
     "shell.execute_reply.started": "2024-11-24T05:02:46.606093Z"
    }
   },
   "outputs": [
    {
     "name": "stderr",
     "output_type": "stream",
     "text": [
      "/opt/conda/lib/python3.10/site-packages/transformers/training_args.py:1545: FutureWarning: `evaluation_strategy` is deprecated and will be removed in version 4.46 of 🤗 Transformers. Use `eval_strategy` instead\n",
      "  warnings.warn(\n",
      "\u001b[34m\u001b[1mwandb\u001b[0m: \u001b[33mWARNING\u001b[0m The `run_name` is currently set to the same value as `TrainingArguments.output_dir`. If this was not intended, please specify a different run name by setting the `TrainingArguments.run_name` parameter.\n",
      "\u001b[34m\u001b[1mwandb\u001b[0m: Using wandb-core as the SDK backend. Please refer to https://wandb.me/wandb-core for more information.\n",
      "\u001b[34m\u001b[1mwandb\u001b[0m: Logging into wandb.ai. (Learn how to deploy a W&B server locally: https://wandb.me/wandb-server)\n",
      "\u001b[34m\u001b[1mwandb\u001b[0m: You can find your API key in your browser here: https://wandb.ai/authorize\n",
      "\u001b[34m\u001b[1mwandb\u001b[0m: Paste an API key from your profile and hit enter, or press ctrl+c to quit:"
     ]
    },
    {
     "name": "stdin",
     "output_type": "stream",
     "text": [
      "  ········\n"
     ]
    },
    {
     "name": "stderr",
     "output_type": "stream",
     "text": [
      "\u001b[34m\u001b[1mwandb\u001b[0m: Appending key for api.wandb.ai to your netrc file: /root/.netrc\n"
     ]
    },
    {
     "data": {
      "application/vnd.jupyter.widget-view+json": {
       "model_id": "a91b0d9c987c4d31be910d8761b501e3",
       "version_major": 2,
       "version_minor": 0
      },
      "text/plain": [
       "VBox(children=(Label(value='Waiting for wandb.init()...\\r'), FloatProgress(value=0.011114101077777782, max=1.0…"
      ]
     },
     "metadata": {},
     "output_type": "display_data"
    },
    {
     "data": {
      "text/html": [
       "Tracking run with wandb version 0.18.3"
      ],
      "text/plain": [
       "<IPython.core.display.HTML object>"
      ]
     },
     "metadata": {},
     "output_type": "display_data"
    },
    {
     "data": {
      "text/html": [
       "Run data is saved locally in <code>/kaggle/working/wandb/run-20241124_050720-o77zlqah</code>"
      ],
      "text/plain": [
       "<IPython.core.display.HTML object>"
      ]
     },
     "metadata": {},
     "output_type": "display_data"
    },
    {
     "data": {
      "text/html": [
       "Syncing run <strong><a href='https://wandb.ai/bhagawatkarhale7-rgipt-jais/huggingface/runs/o77zlqah' target=\"_blank\">./results</a></strong> to <a href='https://wandb.ai/bhagawatkarhale7-rgipt-jais/huggingface' target=\"_blank\">Weights & Biases</a> (<a href='https://wandb.me/run' target=\"_blank\">docs</a>)<br/>"
      ],
      "text/plain": [
       "<IPython.core.display.HTML object>"
      ]
     },
     "metadata": {},
     "output_type": "display_data"
    },
    {
     "data": {
      "text/html": [
       " View project at <a href='https://wandb.ai/bhagawatkarhale7-rgipt-jais/huggingface' target=\"_blank\">https://wandb.ai/bhagawatkarhale7-rgipt-jais/huggingface</a>"
      ],
      "text/plain": [
       "<IPython.core.display.HTML object>"
      ]
     },
     "metadata": {},
     "output_type": "display_data"
    },
    {
     "data": {
      "text/html": [
       " View run at <a href='https://wandb.ai/bhagawatkarhale7-rgipt-jais/huggingface/runs/o77zlqah' target=\"_blank\">https://wandb.ai/bhagawatkarhale7-rgipt-jais/huggingface/runs/o77zlqah</a>"
      ],
      "text/plain": [
       "<IPython.core.display.HTML object>"
      ]
     },
     "metadata": {},
     "output_type": "display_data"
    },
    {
     "data": {
      "text/html": [
       "\n",
       "    <div>\n",
       "      \n",
       "      <progress value='12766' max='12766' style='width:300px; height:20px; vertical-align: middle;'></progress>\n",
       "      [12766/12766 3:56:47, Epoch 2/2]\n",
       "    </div>\n",
       "    <table border=\"1\" class=\"dataframe\">\n",
       "  <thead>\n",
       " <tr style=\"text-align: left;\">\n",
       "      <th>Epoch</th>\n",
       "      <th>Training Loss</th>\n",
       "      <th>Validation Loss</th>\n",
       "    </tr>\n",
       "  </thead>\n",
       "  <tbody>\n",
       "    <tr>\n",
       "      <td>1</td>\n",
       "      <td>0.133100</td>\n",
       "      <td>0.147029</td>\n",
       "    </tr>\n",
       "    <tr>\n",
       "      <td>2</td>\n",
       "      <td>0.097700</td>\n",
       "      <td>0.125532</td>\n",
       "    </tr>\n",
       "  </tbody>\n",
       "</table><p>"
      ],
      "text/plain": [
       "<IPython.core.display.HTML object>"
      ]
     },
     "metadata": {},
     "output_type": "display_data"
    },
    {
     "name": "stderr",
     "output_type": "stream",
     "text": [
      "There were missing keys in the checkpoint model loaded: ['encoder.embed_tokens.weight', 'decoder.embed_tokens.weight', 'lm_head.weight'].\n"
     ]
    },
    {
     "data": {
      "text/plain": [
       "('./fine_tuned_t5_entity_value/tokenizer_config.json',\n",
       " './fine_tuned_t5_entity_value/special_tokens_map.json',\n",
       " './fine_tuned_t5_entity_value/spiece.model',\n",
       " './fine_tuned_t5_entity_value/added_tokens.json',\n",
       " './fine_tuned_t5_entity_value/tokenizer.json')"
      ]
     },
     "execution_count": 9,
     "metadata": {},
     "output_type": "execute_result"
    }
   ],
   "source": [
    "training_args = Seq2SeqTrainingArguments(\n",
    "    output_dir=\"./results\",\n",
    "    num_train_epochs=2,\n",
    "    per_device_train_batch_size=30,\n",
    "    per_device_eval_batch_size=30,\n",
    "    warmup_steps=500,\n",
    "    weight_decay=0.01,\n",
    "    logging_dir=\"./logs\",\n",
    "    logging_steps=10,\n",
    "    evaluation_strategy=\"epoch\",\n",
    "    save_strategy=\"epoch\",\n",
    "    save_total_limit=2,\n",
    "    load_best_model_at_end=True,\n",
    "    learning_rate=1e-3,\n",
    ")\n",
    "\n",
    "# Trainer\n",
    "trainer = Seq2SeqTrainer(\n",
    "    model=model,\n",
    "    args=training_args,\n",
    "    train_dataset=train_dataset,\n",
    "    eval_dataset=eval_dataset,\n",
    ")\n",
    "\n",
    "\n",
    "trainer.train()\n",
    "\n",
    "\n",
    "model.save_pretrained(\"./fine_tuned_t5_entity_value\")\n",
    "tokenizer.save_pretrained(\"./fine_tuned_t5_entity_value\")"
   ]
  },
  {
   "cell_type": "code",
   "execution_count": 10,
   "metadata": {
    "execution": {
     "iopub.execute_input": "2024-11-24T09:04:16.207119Z",
     "iopub.status.busy": "2024-11-24T09:04:16.206310Z",
     "iopub.status.idle": "2024-11-24T09:04:17.054281Z",
     "shell.execute_reply": "2024-11-24T09:04:17.053402Z",
     "shell.execute_reply.started": "2024-11-24T09:04:16.207060Z"
    }
   },
   "outputs": [
    {
     "data": {
      "text/plain": [
       "T5ForConditionalGeneration(\n",
       "  (shared): Embedding(32128, 768)\n",
       "  (encoder): T5Stack(\n",
       "    (embed_tokens): Embedding(32128, 768)\n",
       "    (block): ModuleList(\n",
       "      (0): T5Block(\n",
       "        (layer): ModuleList(\n",
       "          (0): T5LayerSelfAttention(\n",
       "            (SelfAttention): T5Attention(\n",
       "              (q): Linear(in_features=768, out_features=768, bias=False)\n",
       "              (k): Linear(in_features=768, out_features=768, bias=False)\n",
       "              (v): Linear(in_features=768, out_features=768, bias=False)\n",
       "              (o): Linear(in_features=768, out_features=768, bias=False)\n",
       "              (relative_attention_bias): Embedding(32, 12)\n",
       "            )\n",
       "            (layer_norm): T5LayerNorm()\n",
       "            (dropout): Dropout(p=0.1, inplace=False)\n",
       "          )\n",
       "          (1): T5LayerFF(\n",
       "            (DenseReluDense): T5DenseActDense(\n",
       "              (wi): Linear(in_features=768, out_features=3072, bias=False)\n",
       "              (wo): Linear(in_features=3072, out_features=768, bias=False)\n",
       "              (dropout): Dropout(p=0.1, inplace=False)\n",
       "              (act): ReLU()\n",
       "            )\n",
       "            (layer_norm): T5LayerNorm()\n",
       "            (dropout): Dropout(p=0.1, inplace=False)\n",
       "          )\n",
       "        )\n",
       "      )\n",
       "      (1-11): 11 x T5Block(\n",
       "        (layer): ModuleList(\n",
       "          (0): T5LayerSelfAttention(\n",
       "            (SelfAttention): T5Attention(\n",
       "              (q): Linear(in_features=768, out_features=768, bias=False)\n",
       "              (k): Linear(in_features=768, out_features=768, bias=False)\n",
       "              (v): Linear(in_features=768, out_features=768, bias=False)\n",
       "              (o): Linear(in_features=768, out_features=768, bias=False)\n",
       "            )\n",
       "            (layer_norm): T5LayerNorm()\n",
       "            (dropout): Dropout(p=0.1, inplace=False)\n",
       "          )\n",
       "          (1): T5LayerFF(\n",
       "            (DenseReluDense): T5DenseActDense(\n",
       "              (wi): Linear(in_features=768, out_features=3072, bias=False)\n",
       "              (wo): Linear(in_features=3072, out_features=768, bias=False)\n",
       "              (dropout): Dropout(p=0.1, inplace=False)\n",
       "              (act): ReLU()\n",
       "            )\n",
       "            (layer_norm): T5LayerNorm()\n",
       "            (dropout): Dropout(p=0.1, inplace=False)\n",
       "          )\n",
       "        )\n",
       "      )\n",
       "    )\n",
       "    (final_layer_norm): T5LayerNorm()\n",
       "    (dropout): Dropout(p=0.1, inplace=False)\n",
       "  )\n",
       "  (decoder): T5Stack(\n",
       "    (embed_tokens): Embedding(32128, 768)\n",
       "    (block): ModuleList(\n",
       "      (0): T5Block(\n",
       "        (layer): ModuleList(\n",
       "          (0): T5LayerSelfAttention(\n",
       "            (SelfAttention): T5Attention(\n",
       "              (q): Linear(in_features=768, out_features=768, bias=False)\n",
       "              (k): Linear(in_features=768, out_features=768, bias=False)\n",
       "              (v): Linear(in_features=768, out_features=768, bias=False)\n",
       "              (o): Linear(in_features=768, out_features=768, bias=False)\n",
       "              (relative_attention_bias): Embedding(32, 12)\n",
       "            )\n",
       "            (layer_norm): T5LayerNorm()\n",
       "            (dropout): Dropout(p=0.1, inplace=False)\n",
       "          )\n",
       "          (1): T5LayerCrossAttention(\n",
       "            (EncDecAttention): T5Attention(\n",
       "              (q): Linear(in_features=768, out_features=768, bias=False)\n",
       "              (k): Linear(in_features=768, out_features=768, bias=False)\n",
       "              (v): Linear(in_features=768, out_features=768, bias=False)\n",
       "              (o): Linear(in_features=768, out_features=768, bias=False)\n",
       "            )\n",
       "            (layer_norm): T5LayerNorm()\n",
       "            (dropout): Dropout(p=0.1, inplace=False)\n",
       "          )\n",
       "          (2): T5LayerFF(\n",
       "            (DenseReluDense): T5DenseActDense(\n",
       "              (wi): Linear(in_features=768, out_features=3072, bias=False)\n",
       "              (wo): Linear(in_features=3072, out_features=768, bias=False)\n",
       "              (dropout): Dropout(p=0.1, inplace=False)\n",
       "              (act): ReLU()\n",
       "            )\n",
       "            (layer_norm): T5LayerNorm()\n",
       "            (dropout): Dropout(p=0.1, inplace=False)\n",
       "          )\n",
       "        )\n",
       "      )\n",
       "      (1-11): 11 x T5Block(\n",
       "        (layer): ModuleList(\n",
       "          (0): T5LayerSelfAttention(\n",
       "            (SelfAttention): T5Attention(\n",
       "              (q): Linear(in_features=768, out_features=768, bias=False)\n",
       "              (k): Linear(in_features=768, out_features=768, bias=False)\n",
       "              (v): Linear(in_features=768, out_features=768, bias=False)\n",
       "              (o): Linear(in_features=768, out_features=768, bias=False)\n",
       "            )\n",
       "            (layer_norm): T5LayerNorm()\n",
       "            (dropout): Dropout(p=0.1, inplace=False)\n",
       "          )\n",
       "          (1): T5LayerCrossAttention(\n",
       "            (EncDecAttention): T5Attention(\n",
       "              (q): Linear(in_features=768, out_features=768, bias=False)\n",
       "              (k): Linear(in_features=768, out_features=768, bias=False)\n",
       "              (v): Linear(in_features=768, out_features=768, bias=False)\n",
       "              (o): Linear(in_features=768, out_features=768, bias=False)\n",
       "            )\n",
       "            (layer_norm): T5LayerNorm()\n",
       "            (dropout): Dropout(p=0.1, inplace=False)\n",
       "          )\n",
       "          (2): T5LayerFF(\n",
       "            (DenseReluDense): T5DenseActDense(\n",
       "              (wi): Linear(in_features=768, out_features=3072, bias=False)\n",
       "              (wo): Linear(in_features=3072, out_features=768, bias=False)\n",
       "              (dropout): Dropout(p=0.1, inplace=False)\n",
       "              (act): ReLU()\n",
       "            )\n",
       "            (layer_norm): T5LayerNorm()\n",
       "            (dropout): Dropout(p=0.1, inplace=False)\n",
       "          )\n",
       "        )\n",
       "      )\n",
       "    )\n",
       "    (final_layer_norm): T5LayerNorm()\n",
       "    (dropout): Dropout(p=0.1, inplace=False)\n",
       "  )\n",
       "  (lm_head): Linear(in_features=768, out_features=32128, bias=False)\n",
       ")"
      ]
     },
     "execution_count": 10,
     "metadata": {},
     "output_type": "execute_result"
    }
   ],
   "source": [
    "\n",
    "model = AutoModelForSeq2SeqLM.from_pretrained(\"./fine_tuned_t5_entity_value\")\n",
    "model.to(device)"
   ]
  },
  {
   "cell_type": "code",
   "execution_count": 11,
   "metadata": {
    "execution": {
     "iopub.execute_input": "2024-11-24T09:04:17.055957Z",
     "iopub.status.busy": "2024-11-24T09:04:17.055632Z",
     "iopub.status.idle": "2024-11-24T09:13:20.097172Z",
     "shell.execute_reply": "2024-11-24T09:13:20.096167Z",
     "shell.execute_reply.started": "2024-11-24T09:04:17.055931Z"
    }
   },
   "outputs": [
    {
     "name": "stdout",
     "output_type": "stream",
     "text": [
      "Starting prediction...\n"
     ]
    },
    {
     "name": "stderr",
     "output_type": "stream",
     "text": [
      "Predicting: 100%|██████████| 890/890 [08:57<00:00,  1.65batch/s]"
     ]
    },
    {
     "name": "stdout",
     "output_type": "stream",
     "text": [
      "F1 Score on Test Data: 0.7531961471103328\n"
     ]
    },
    {
     "name": "stderr",
     "output_type": "stream",
     "text": [
      "\n"
     ]
    }
   ],
   "source": [
    "from tqdm import tqdm\n",
    "from torch.utils.data import DataLoader\n",
    "\n",
    "def batch_predict(batch_group_ids, batch_entity_names, batch_texts):\n",
    "    input_texts = [\n",
    "        f\"Extract {entity_name} from: Group ID: {group_id}, Entity Name: {entity_name}, Text: {text}\"\n",
    "        for group_id, entity_name, text in zip(batch_group_ids, batch_entity_names, batch_texts)\n",
    "    ]\n",
    "    inputs = tokenizer(input_texts, return_tensors=\"pt\", max_length=512, truncation=True, padding=True)\n",
    "    inputs = {k: v.to(device) for k, v in inputs.items()}\n",
    "    with torch.no_grad():\n",
    "        outputs = model.generate(**inputs, max_length=32, num_return_sequences=1, do_sample=False)\n",
    "    return [tokenizer.decode(output, skip_special_tokens=True) for output in outputs]\n",
    "\n",
    "class TestDataset(Dataset):\n",
    "    def __init__(self, df):\n",
    "        self.group_ids = df['group_id'].tolist()\n",
    "        self.entity_names = df['entity_name'].tolist()\n",
    "        self.texts = df['cleaned_extracted_values'].tolist()\n",
    "\n",
    "    def __len__(self):\n",
    "        return len(self.texts)\n",
    "\n",
    "    def __getitem__(self, idx):\n",
    "        return self.group_ids[idx], self.entity_names[idx], self.texts[idx]\n",
    "\n",
    "test_dataset = TestDataset(test_df)\n",
    "test_loader = DataLoader(test_dataset, batch_size=32, shuffle=False)\n",
    "\n",
    "predicted_values = []\n",
    "print(\"Starting prediction...\")\n",
    "for batch in tqdm(test_loader, desc=\"Predicting\", unit=\"batch\"):\n",
    "    batch_group_ids, batch_entity_names, batch_texts = batch\n",
    "    batch_predictions = batch_predict(batch_group_ids, batch_entity_names, batch_texts)\n",
    "    predicted_values.extend(batch_predictions)\n",
    "\n",
    "test_df['predicted_value'] = predicted_values\n",
    "\n",
    "f1_score = calculate_f1_score(test_df['entity_value'], test_df['predicted_value'])\n",
    "print(f\"F1 Score on Test Data: {f1_score}\")"
   ]
  },
  {
   "cell_type": "code",
   "execution_count": 12,
   "metadata": {
    "execution": {
     "iopub.execute_input": "2024-11-24T09:13:20.098529Z",
     "iopub.status.busy": "2024-11-24T09:13:20.098286Z",
     "iopub.status.idle": "2024-11-24T09:13:20.306791Z",
     "shell.execute_reply": "2024-11-24T09:13:20.306084Z",
     "shell.execute_reply.started": "2024-11-24T09:13:20.098507Z"
    }
   },
   "outputs": [],
   "source": [
    "test_df.to_csv(\"test_data_with_prediction.csv\")"
   ]
  },
  {
   "cell_type": "code",
   "execution_count": 19,
   "metadata": {
    "execution": {
     "iopub.execute_input": "2024-11-24T09:53:57.837000Z",
     "iopub.status.busy": "2024-11-24T09:53:57.836648Z",
     "iopub.status.idle": "2024-11-24T09:53:57.843171Z",
     "shell.execute_reply": "2024-11-24T09:53:57.842199Z",
     "shell.execute_reply.started": "2024-11-24T09:53:57.836973Z"
    }
   },
   "outputs": [],
   "source": [
    "import torch\n",
    "\n",
    "# Clear memory and reset\n",
    "torch.cuda.empty_cache()\n",
    "torch.cuda.reset_peak_memory_stats()  # Resets the peak memory tracker\n",
    "torch.cuda.reset_accumulated_memory_stats()  # Resets accumulated memory tracker\n"
   ]
  },
  {
   "cell_type": "code",
   "execution_count": 8,
   "metadata": {
    "execution": {
     "iopub.execute_input": "2024-11-24T14:51:54.565277Z",
     "iopub.status.busy": "2024-11-24T14:51:54.564983Z",
     "iopub.status.idle": "2024-11-24T14:51:55.896173Z",
     "shell.execute_reply": "2024-11-24T14:51:55.895310Z",
     "shell.execute_reply.started": "2024-11-24T14:51:54.565252Z"
    }
   },
   "outputs": [
    {
     "name": "stdout",
     "output_type": "stream",
     "text": [
      "Resuming training from saved model.\n"
     ]
    }
   ],
   "source": [
    "model_dir = \"/kaggle/input/btp_2epoch_checkpoints/transformers/default/1\"\n",
    "\n",
    "output_dir = \"/kaggle/working/\"\n",
    "if os.path.exists(model_dir):\n",
    "    model = AutoModelForSeq2SeqLM.from_pretrained(model_dir)\n",
    "    print(\"Resuming training from saved model.\")\n",
    "else:\n",
    "    model = AutoModelForSeq2SeqLM.from_pretrained(model_name)\n",
    "    print(\"Initializing new model.\")"
   ]
  },
  {
   "cell_type": "code",
   "execution_count": 9,
   "metadata": {
    "execution": {
     "iopub.execute_input": "2024-11-24T14:52:10.954052Z",
     "iopub.status.busy": "2024-11-24T14:52:10.953715Z",
     "iopub.status.idle": "2024-11-24T18:49:30.026401Z",
     "shell.execute_reply": "2024-11-24T18:49:30.025422Z",
     "shell.execute_reply.started": "2024-11-24T14:52:10.954023Z"
    }
   },
   "outputs": [
    {
     "name": "stderr",
     "output_type": "stream",
     "text": [
      "/opt/conda/lib/python3.10/site-packages/transformers/training_args.py:1545: FutureWarning: `evaluation_strategy` is deprecated and will be removed in version 4.46 of 🤗 Transformers. Use `eval_strategy` instead\n",
      "  warnings.warn(\n",
      "\u001b[34m\u001b[1mwandb\u001b[0m: \u001b[33mWARNING\u001b[0m The `run_name` is currently set to the same value as `TrainingArguments.output_dir`. If this was not intended, please specify a different run name by setting the `TrainingArguments.run_name` parameter.\n",
      "\u001b[34m\u001b[1mwandb\u001b[0m: Using wandb-core as the SDK backend. Please refer to https://wandb.me/wandb-core for more information.\n",
      "\u001b[34m\u001b[1mwandb\u001b[0m: Logging into wandb.ai. (Learn how to deploy a W&B server locally: https://wandb.me/wandb-server)\n",
      "\u001b[34m\u001b[1mwandb\u001b[0m: You can find your API key in your browser here: https://wandb.ai/authorize\n",
      "\u001b[34m\u001b[1mwandb\u001b[0m: Paste an API key from your profile and hit enter, or press ctrl+c to quit:"
     ]
    },
    {
     "name": "stdin",
     "output_type": "stream",
     "text": [
      "  ········\n"
     ]
    },
    {
     "name": "stderr",
     "output_type": "stream",
     "text": [
      "\u001b[34m\u001b[1mwandb\u001b[0m: Appending key for api.wandb.ai to your netrc file: /root/.netrc\n"
     ]
    },
    {
     "data": {
      "application/vnd.jupyter.widget-view+json": {
       "model_id": "9ac94b9c5b764484944761917613a39b",
       "version_major": 2,
       "version_minor": 0
      },
      "text/plain": [
       "VBox(children=(Label(value='Waiting for wandb.init()...\\r'), FloatProgress(value=0.011113654700000097, max=1.0…"
      ]
     },
     "metadata": {},
     "output_type": "display_data"
    },
    {
     "data": {
      "text/html": [
       "Tracking run with wandb version 0.18.3"
      ],
      "text/plain": [
       "<IPython.core.display.HTML object>"
      ]
     },
     "metadata": {},
     "output_type": "display_data"
    },
    {
     "data": {
      "text/html": [
       "Run data is saved locally in <code>/kaggle/working/wandb/run-20241124_145233-skx1anai</code>"
      ],
      "text/plain": [
       "<IPython.core.display.HTML object>"
      ]
     },
     "metadata": {},
     "output_type": "display_data"
    },
    {
     "data": {
      "text/html": [
       "Syncing run <strong><a href='https://wandb.ai/bhagawatkarhale7-rgipt-jais/huggingface/runs/skx1anai' target=\"_blank\">/kaggle/working/</a></strong> to <a href='https://wandb.ai/bhagawatkarhale7-rgipt-jais/huggingface' target=\"_blank\">Weights & Biases</a> (<a href='https://wandb.me/run' target=\"_blank\">docs</a>)<br/>"
      ],
      "text/plain": [
       "<IPython.core.display.HTML object>"
      ]
     },
     "metadata": {},
     "output_type": "display_data"
    },
    {
     "data": {
      "text/html": [
       " View project at <a href='https://wandb.ai/bhagawatkarhale7-rgipt-jais/huggingface' target=\"_blank\">https://wandb.ai/bhagawatkarhale7-rgipt-jais/huggingface</a>"
      ],
      "text/plain": [
       "<IPython.core.display.HTML object>"
      ]
     },
     "metadata": {},
     "output_type": "display_data"
    },
    {
     "data": {
      "text/html": [
       " View run at <a href='https://wandb.ai/bhagawatkarhale7-rgipt-jais/huggingface/runs/skx1anai' target=\"_blank\">https://wandb.ai/bhagawatkarhale7-rgipt-jais/huggingface/runs/skx1anai</a>"
      ],
      "text/plain": [
       "<IPython.core.display.HTML object>"
      ]
     },
     "metadata": {},
     "output_type": "display_data"
    },
    {
     "data": {
      "text/html": [
       "\n",
       "    <div>\n",
       "      \n",
       "      <progress value='12766' max='12766' style='width:300px; height:20px; vertical-align: middle;'></progress>\n",
       "      [12766/12766 3:56:50, Epoch 2/2]\n",
       "    </div>\n",
       "    <table border=\"1\" class=\"dataframe\">\n",
       "  <thead>\n",
       " <tr style=\"text-align: left;\">\n",
       "      <th>Epoch</th>\n",
       "      <th>Training Loss</th>\n",
       "      <th>Validation Loss</th>\n",
       "    </tr>\n",
       "  </thead>\n",
       "  <tbody>\n",
       "    <tr>\n",
       "      <td>1</td>\n",
       "      <td>0.110600</td>\n",
       "      <td>0.139508</td>\n",
       "    </tr>\n",
       "    <tr>\n",
       "      <td>2</td>\n",
       "      <td>0.087800</td>\n",
       "      <td>0.122091</td>\n",
       "    </tr>\n",
       "  </tbody>\n",
       "</table><p>"
      ],
      "text/plain": [
       "<IPython.core.display.HTML object>"
      ]
     },
     "metadata": {},
     "output_type": "display_data"
    },
    {
     "name": "stderr",
     "output_type": "stream",
     "text": [
      "There were missing keys in the checkpoint model loaded: ['encoder.embed_tokens.weight', 'decoder.embed_tokens.weight', 'lm_head.weight'].\n"
     ]
    },
    {
     "data": {
      "text/plain": [
       "TrainOutput(global_step=12766, training_loss=0.10309239999732123, metrics={'train_runtime': 14227.5444, 'train_samples_per_second': 26.914, 'train_steps_per_second': 0.897, 'total_flos': 1.36630882833408e+17, 'train_loss': 0.10309239999732123, 'epoch': 2.0})"
      ]
     },
     "execution_count": 9,
     "metadata": {},
     "output_type": "execute_result"
    }
   ],
   "source": [
    "\n",
    "\n",
    "device = torch.device(\"cuda\" if torch.cuda.is_available() else \"cpu\")\n",
    "model.to(device)\n",
    "\n",
    "# Define training arguments\n",
    "resume_training = os.path.exists(model_dir)\n",
    "training_args = Seq2SeqTrainingArguments(\n",
    "    output_dir=output_dir,\n",
    "    num_train_epochs=2,  # Specify additional epochs\n",
    "    per_device_train_batch_size=30,\n",
    "    per_device_eval_batch_size=30,\n",
    "    warmup_steps=500,\n",
    "    weight_decay=0.01,\n",
    "    logging_dir=\"./logs\",\n",
    "    logging_steps=10,\n",
    "    evaluation_strategy=\"epoch\",\n",
    "    save_strategy=\"epoch\",\n",
    "    save_total_limit=2,\n",
    "    load_best_model_at_end=True,\n",
    "    learning_rate=1e-3,\n",
    "    resume_from_checkpoint=resume_training, \n",
    ")\n",
    "\n",
    "trainer = Seq2SeqTrainer(\n",
    "    model=model,\n",
    "    args=training_args,\n",
    "    train_dataset=train_dataset,\n",
    "    eval_dataset=eval_dataset,\n",
    ")\n",
    "\n",
    "trainer.train()"
   ]
  },
  {
   "cell_type": "code",
   "execution_count": 10,
   "metadata": {
    "execution": {
     "iopub.execute_input": "2024-11-24T18:49:30.028187Z",
     "iopub.status.busy": "2024-11-24T18:49:30.027890Z",
     "iopub.status.idle": "2024-11-24T18:49:32.158044Z",
     "shell.execute_reply": "2024-11-24T18:49:32.156786Z",
     "shell.execute_reply.started": "2024-11-24T18:49:30.028130Z"
    }
   },
   "outputs": [
    {
     "name": "stdout",
     "output_type": "stream",
     "text": [
      "Model and tokenizer saved to ./kaggle/working/fine_tuned_t4_entity_value\n"
     ]
    }
   ],
   "source": [
    "model_dir = \"./kaggle/working/fine_tuned_t4_entity_value\"\n",
    "model.save_pretrained(model_dir)\n",
    "tokenizer.save_pretrained(model_dir)\n",
    "print(f\"Model and tokenizer saved to {model_dir}\")"
   ]
  },
  {
   "cell_type": "code",
   "execution_count": 12,
   "metadata": {
    "execution": {
     "iopub.execute_input": "2024-11-24T14:37:43.460660Z",
     "iopub.status.busy": "2024-11-24T14:37:43.460304Z",
     "iopub.status.idle": "2024-11-24T14:37:43.562808Z",
     "shell.execute_reply": "2024-11-24T14:37:43.561932Z",
     "shell.execute_reply.started": "2024-11-24T14:37:43.460630Z"
    }
   },
   "outputs": [],
   "source": [
    "test_df = pd.read_csv(\"/kaggle/input/final-data-btp/Final_test_data.csv\")"
   ]
  },
  {
   "cell_type": "code",
   "execution_count": 12,
   "metadata": {
    "execution": {
     "iopub.execute_input": "2024-11-24T18:53:51.576642Z",
     "iopub.status.busy": "2024-11-24T18:53:51.575724Z",
     "iopub.status.idle": "2024-11-24T19:02:46.703402Z",
     "shell.execute_reply": "2024-11-24T19:02:46.702565Z",
     "shell.execute_reply.started": "2024-11-24T18:53:51.576590Z"
    }
   },
   "outputs": [
    {
     "name": "stdout",
     "output_type": "stream",
     "text": [
      "Starting prediction...\n"
     ]
    },
    {
     "name": "stderr",
     "output_type": "stream",
     "text": [
      "Predicting: 100%|██████████| 890/890 [08:55<00:00,  1.66batch/s]"
     ]
    },
    {
     "name": "stdout",
     "output_type": "stream",
     "text": [
      "F1 Score on Test Data: 0.7711129331549649\n"
     ]
    },
    {
     "name": "stderr",
     "output_type": "stream",
     "text": [
      "\n"
     ]
    }
   ],
   "source": [
    "from tqdm import tqdm\n",
    "import numpy as np\n",
    "from torch.utils.data import DataLoader\n",
    "\n",
    "def batch_predict(batch_group_ids, batch_entity_names, batch_texts):\n",
    "    input_texts = [\n",
    "        f\"Extract {entity_name} from: Group ID: {group_id}, Entity Name: {entity_name}, Text: {text}\"\n",
    "        for group_id, entity_name, text in zip(batch_group_ids, batch_entity_names, batch_texts)\n",
    "    ]\n",
    "    inputs = tokenizer(input_texts, return_tensors=\"pt\", max_length=512, truncation=True, padding=True)\n",
    "    inputs = {k: v.to(device) for k, v in inputs.items()}\n",
    "    with torch.no_grad():\n",
    "        outputs = model.generate(**inputs, max_length=32, num_return_sequences=1, do_sample=False)\n",
    "    return [tokenizer.decode(output, skip_special_tokens=True) for output in outputs]\n",
    "\n",
    "\n",
    "# Prepare DataLoader for test data\n",
    "class TestDataset(Dataset):\n",
    "    def __init__(self, df):\n",
    "        self.group_ids = df['group_id'].tolist()\n",
    "        self.entity_names = df['entity_name'].tolist()\n",
    "        self.texts = df['cleaned_extracted_values'].tolist()\n",
    "\n",
    "    def __len__(self):\n",
    "        return len(self.texts)\n",
    "\n",
    "    def __getitem__(self, idx):\n",
    "        return self.group_ids[idx], self.entity_names[idx], self.texts[idx]\n",
    "\n",
    "\n",
    "test_dataset = TestDataset(test_df)\n",
    "test_loader = DataLoader(test_dataset, batch_size=32, shuffle=False)\n",
    "\n",
    "# Perform batch prediction and track progress\n",
    "predicted_values = []\n",
    "print(\"Starting prediction...\")\n",
    "for batch in tqdm(test_loader, desc=\"Predicting\", unit=\"batch\"):\n",
    "    batch_group_ids, batch_entity_names, batch_texts = batch\n",
    "    batch_predictions = batch_predict(batch_group_ids, batch_entity_names, batch_texts)\n",
    "    predicted_values.extend(batch_predictions)\n",
    "\n",
    "test_df['predicted_value'] = predicted_values\n",
    "\n",
    "f1_score = calculate_f1_score(test_df['entity_value'], test_df['predicted_value'])\n",
    "print(f\"F1 Score on Test Data: {f1_score}\")\n"
   ]
  },
  {
   "cell_type": "code",
   "execution_count": 15,
   "metadata": {
    "execution": {
     "iopub.execute_input": "2024-11-24T19:35:51.065374Z",
     "iopub.status.busy": "2024-11-24T19:35:51.064502Z",
     "iopub.status.idle": "2024-11-24T19:35:51.445470Z",
     "shell.execute_reply": "2024-11-24T19:35:51.444506Z",
     "shell.execute_reply.started": "2024-11-24T19:35:51.065325Z"
    }
   },
   "outputs": [
    {
     "name": "stdout",
     "output_type": "stream",
     "text": [
      "Resuming training from saved model.\n"
     ]
    }
   ],
   "source": [
    "model_dir = \"/kaggle/working/checkpoint-12766\"\n",
    "\n",
    "output_dir = \"/kaggle/working/\"\n",
    "if os.path.exists(model_dir):\n",
    "    model = AutoModelForSeq2SeqLM.from_pretrained(model_dir)\n",
    "    print(\"Resuming training from saved model.\")\n",
    "else:\n",
    "    model = AutoModelForSeq2SeqLM.from_pretrained(model_name)\n",
    "    print(\"Initializing new model.\")"
   ]
  },
  {
   "cell_type": "code",
   "execution_count": 17,
   "metadata": {
    "execution": {
     "iopub.execute_input": "2024-11-24T19:36:52.974023Z",
     "iopub.status.busy": "2024-11-24T19:36:52.973323Z",
     "iopub.status.idle": "2024-11-24T21:35:28.009873Z",
     "shell.execute_reply": "2024-11-24T21:35:28.009058Z",
     "shell.execute_reply.started": "2024-11-24T19:36:52.973992Z"
    }
   },
   "outputs": [
    {
     "name": "stderr",
     "output_type": "stream",
     "text": [
      "/opt/conda/lib/python3.10/site-packages/transformers/training_args.py:1545: FutureWarning: `evaluation_strategy` is deprecated and will be removed in version 4.46 of 🤗 Transformers. Use `eval_strategy` instead\n",
      "  warnings.warn(\n"
     ]
    },
    {
     "data": {
      "text/html": [
       "\n",
       "    <div>\n",
       "      \n",
       "      <progress value='6383' max='6383' style='width:300px; height:20px; vertical-align: middle;'></progress>\n",
       "      [6383/6383 1:58:32, Epoch 1/1]\n",
       "    </div>\n",
       "    <table border=\"1\" class=\"dataframe\">\n",
       "  <thead>\n",
       " <tr style=\"text-align: left;\">\n",
       "      <th>Epoch</th>\n",
       "      <th>Training Loss</th>\n",
       "      <th>Validation Loss</th>\n",
       "    </tr>\n",
       "  </thead>\n",
       "  <tbody>\n",
       "    <tr>\n",
       "      <td>1</td>\n",
       "      <td>0.075000</td>\n",
       "      <td>0.136780</td>\n",
       "    </tr>\n",
       "  </tbody>\n",
       "</table><p>"
      ],
      "text/plain": [
       "<IPython.core.display.HTML object>"
      ]
     },
     "metadata": {},
     "output_type": "display_data"
    },
    {
     "name": "stderr",
     "output_type": "stream",
     "text": [
      "There were missing keys in the checkpoint model loaded: ['encoder.embed_tokens.weight', 'decoder.embed_tokens.weight', 'lm_head.weight'].\n"
     ]
    },
    {
     "data": {
      "text/plain": [
       "TrainOutput(global_step=6383, training_loss=0.07449931010881711, metrics={'train_runtime': 7113.3723, 'train_samples_per_second': 26.916, 'train_steps_per_second': 0.897, 'total_flos': 6.8315441416704e+16, 'train_loss': 0.07449931010881711, 'epoch': 1.0})"
      ]
     },
     "execution_count": 17,
     "metadata": {},
     "output_type": "execute_result"
    }
   ],
   "source": [
    "\n",
    "\n",
    "device = torch.device(\"cuda\" if torch.cuda.is_available() else \"cpu\")\n",
    "model.to(device)\n",
    "\n",
    "# Define training arguments\n",
    "resume_training = os.path.exists(model_dir)\n",
    "training_args = Seq2SeqTrainingArguments(\n",
    "    output_dir=output_dir,\n",
    "    num_train_epochs=1, \n",
    "    per_device_train_batch_size=30,\n",
    "    per_device_eval_batch_size=30,\n",
    "    warmup_steps=500,\n",
    "    weight_decay=0.01,\n",
    "    logging_dir=\"./logs\",\n",
    "    logging_steps=10,\n",
    "    evaluation_strategy=\"epoch\",\n",
    "    save_strategy=\"epoch\",\n",
    "    save_total_limit=2,\n",
    "    load_best_model_at_end=True,\n",
    "    learning_rate=1e-3,\n",
    "    resume_from_checkpoint=resume_training, \n",
    ")\n",
    "\n",
    "trainer = Seq2SeqTrainer(\n",
    "    model=model,\n",
    "    args=training_args,\n",
    "    train_dataset=train_dataset,\n",
    "    eval_dataset=eval_dataset,\n",
    ")\n",
    "\n",
    "trainer.train()"
   ]
  },
  {
   "cell_type": "code",
   "execution_count": 18,
   "metadata": {
    "execution": {
     "iopub.execute_input": "2024-11-24T21:36:13.881502Z",
     "iopub.status.busy": "2024-11-24T21:36:13.880793Z",
     "iopub.status.idle": "2024-11-24T21:36:15.028657Z",
     "shell.execute_reply": "2024-11-24T21:36:15.027770Z",
     "shell.execute_reply.started": "2024-11-24T21:36:13.881465Z"
    }
   },
   "outputs": [
    {
     "name": "stdout",
     "output_type": "stream",
     "text": [
      "Model and tokenizer saved to ./kaggle/working/fine_tuned_t4_t5thepoch_entity_value\n"
     ]
    }
   ],
   "source": [
    "model_dir = \"./kaggle/working/fine_tuned_t4_t5thepoch_entity_value\"\n",
    "model.save_pretrained(model_dir)\n",
    "tokenizer.save_pretrained(model_dir)\n",
    "print(f\"Model and tokenizer saved to {model_dir}\")"
   ]
  },
  {
   "cell_type": "code",
   "execution_count": 19,
   "metadata": {
    "execution": {
     "iopub.execute_input": "2024-11-24T21:36:28.302765Z",
     "iopub.status.busy": "2024-11-24T21:36:28.302424Z",
     "iopub.status.idle": "2024-11-24T21:45:23.916522Z",
     "shell.execute_reply": "2024-11-24T21:45:23.915605Z",
     "shell.execute_reply.started": "2024-11-24T21:36:28.302735Z"
    }
   },
   "outputs": [
    {
     "name": "stdout",
     "output_type": "stream",
     "text": [
      "Starting prediction...\n"
     ]
    },
    {
     "name": "stderr",
     "output_type": "stream",
     "text": [
      "Predicting: 100%|██████████| 890/890 [08:55<00:00,  1.66batch/s]"
     ]
    },
    {
     "name": "stdout",
     "output_type": "stream",
     "text": [
      "F1 Score on Test Data: 0.7685089084933402\n"
     ]
    },
    {
     "name": "stderr",
     "output_type": "stream",
     "text": [
      "\n"
     ]
    }
   ],
   "source": [
    "from tqdm import tqdm\n",
    "import numpy as np\n",
    "from torch.utils.data import DataLoader\n",
    "\n",
    "def batch_predict(batch_group_ids, batch_entity_names, batch_texts):\n",
    "    input_texts = [\n",
    "        f\"Extract {entity_name} from: Group ID: {group_id}, Entity Name: {entity_name}, Text: {text}\"\n",
    "        for group_id, entity_name, text in zip(batch_group_ids, batch_entity_names, batch_texts)\n",
    "    ]\n",
    "    inputs = tokenizer(input_texts, return_tensors=\"pt\", max_length=512, truncation=True, padding=True)\n",
    "    inputs = {k: v.to(device) for k, v in inputs.items()}\n",
    "    with torch.no_grad():\n",
    "        outputs = model.generate(**inputs, max_length=32, num_return_sequences=1, do_sample=False)\n",
    "    return [tokenizer.decode(output, skip_special_tokens=True) for output in outputs]\n",
    "\n",
    "\n",
    "# Prepare DataLoader for test data\n",
    "class TestDataset(Dataset):\n",
    "    def __init__(self, df):\n",
    "        self.group_ids = df['group_id'].tolist()\n",
    "        self.entity_names = df['entity_name'].tolist()\n",
    "        self.texts = df['cleaned_extracted_values'].tolist()\n",
    "\n",
    "    def __len__(self):\n",
    "        return len(self.texts)\n",
    "\n",
    "    def __getitem__(self, idx):\n",
    "        return self.group_ids[idx], self.entity_names[idx], self.texts[idx]\n",
    "\n",
    "\n",
    "test_dataset = TestDataset(test_df)\n",
    "test_loader = DataLoader(test_dataset, batch_size=32, shuffle=False)\n",
    "\n",
    "# Perform batch prediction and track progress\n",
    "predicted_values = []\n",
    "print(\"Starting prediction...\")\n",
    "for batch in tqdm(test_loader, desc=\"Predicting\", unit=\"batch\"):\n",
    "    batch_group_ids, batch_entity_names, batch_texts = batch\n",
    "    batch_predictions = batch_predict(batch_group_ids, batch_entity_names, batch_texts)\n",
    "    predicted_values.extend(batch_predictions)\n",
    "\n",
    "test_df['predicted_value'] = predicted_values\n",
    "\n",
    "f1_score = calculate_f1_score(test_df['entity_value'], test_df['predicted_value'])\n",
    "print(f\"F1 Score on Test Data: {f1_score}\")\n"
   ]
  },
  {
   "cell_type": "code",
   "execution_count": 21,
   "metadata": {
    "execution": {
     "iopub.execute_input": "2024-11-24T22:04:42.758732Z",
     "iopub.status.busy": "2024-11-24T22:04:42.757843Z",
     "iopub.status.idle": "2024-11-24T22:05:27.925242Z",
     "shell.execute_reply": "2024-11-24T22:05:27.924461Z",
     "shell.execute_reply.started": "2024-11-24T22:04:42.758681Z"
    }
   },
   "outputs": [
    {
     "data": {
      "text/html": [
       "<a href='fine_tuned_t5_5epoch.zip' target='_blank'>fine_tuned_t5_5epoch.zip</a><br>"
      ],
      "text/plain": [
       "/kaggle/working/fine_tuned_t5_5epoch.zip"
      ]
     },
     "execution_count": 21,
     "metadata": {},
     "output_type": "execute_result"
    }
   ],
   "source": [
    "import shutil\n",
    "model_dir = \"/kaggle/working/kaggle/working/fine_tuned_t4_t5thepoch_entity_value\"\n",
    "# Zip the model directory\n",
    "shutil.make_archive(\"fine_tuned_t5_5epoch\", 'zip', model_dir)\n",
    "\n",
    "# Download the zip file\n",
    "from IPython.display import FileLink\n",
    "FileLink(\"fine_tuned_t5_5epoch.zip\")\n"
   ]
  },
  {
   "cell_type": "code",
   "execution_count": 14,
   "metadata": {
    "execution": {
     "iopub.execute_input": "2024-11-24T19:07:17.455438Z",
     "iopub.status.busy": "2024-11-24T19:07:17.454791Z",
     "iopub.status.idle": "2024-11-24T19:09:24.057278Z",
     "shell.execute_reply": "2024-11-24T19:09:24.056391Z",
     "shell.execute_reply.started": "2024-11-24T19:07:17.455401Z"
    }
   },
   "outputs": [
    {
     "data": {
      "text/html": [
       "<a href='fine_tuned_t5_checpoint_epoch4.zip' target='_blank'>fine_tuned_t5_checpoint_epoch4.zip</a><br>"
      ],
      "text/plain": [
       "/kaggle/working/fine_tuned_t5_checpoint_epoch4.zip"
      ]
     },
     "execution_count": 14,
     "metadata": {},
     "output_type": "execute_result"
    }
   ],
   "source": [
    "import shutil\n",
    "model_dir1 = \"/kaggle/working/checkpoint-12766\"\n",
    "\n",
    "shutil.make_archive(\"fine_tuned_t5_checpoint_epoch4\", 'zip', model_dir1)\n",
    "\n",
    "# Download the zip file\n",
    "from IPython.display import FileLink\n",
    "FileLink(\"fine_tuned_t5_checpoint_epoch4.zip\")"
   ]
  },
  {
   "cell_type": "code",
   "execution_count": null,
   "metadata": {
    "execution": {
     "iopub.status.busy": "2024-11-24T18:52:15.028700Z",
     "iopub.status.idle": "2024-11-24T18:52:15.029000Z",
     "shell.execute_reply": "2024-11-24T18:52:15.028876Z",
     "shell.execute_reply.started": "2024-11-24T18:52:15.028861Z"
    }
   },
   "outputs": [],
   "source": [
    "import time\n",
    "time.sleep(10000)"
   ]
  },
  {
   "cell_type": "code",
   "execution_count": null,
   "metadata": {},
   "outputs": [],
   "source": []
  }
 ],
 "metadata": {
  "kaggle": {
   "accelerator": "gpu",
   "dataSources": [
    {
     "datasetId": 6134543,
     "sourceId": 9971309,
     "sourceType": "datasetVersion"
    },
    {
     "datasetId": 6150781,
     "sourceId": 9993620,
     "sourceType": "datasetVersion"
    },
    {
     "isSourceIdPinned": true,
     "modelId": 173359,
     "modelInstanceId": 150886,
     "sourceId": 177138,
     "sourceType": "modelInstanceVersion"
    }
   ],
   "dockerImageVersionId": 30787,
   "isGpuEnabled": true,
   "isInternetEnabled": true,
   "language": "python",
   "sourceType": "notebook"
  },
  "kernelspec": {
   "display_name": "Python 3 (ipykernel)",
   "language": "python",
   "name": "python3"
  },
  "language_info": {
   "codemirror_mode": {
    "name": "ipython",
    "version": 3
   },
   "file_extension": ".py",
   "mimetype": "text/x-python",
   "name": "python",
   "nbconvert_exporter": "python",
   "pygments_lexer": "ipython3",
   "version": "3.11.4"
  }
 },
 "nbformat": 4,
 "nbformat_minor": 4
}
