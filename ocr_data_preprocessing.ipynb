{
 "cells": [
  {
   "cell_type": "code",
   "execution_count": 232,
   "id": "8a368f5b-f29a-4ce8-8e5e-4c8674454577",
   "metadata": {},
   "outputs": [],
   "source": [
    "import pandas as pd\n",
    "import numpy as np\n",
    "import ast\n",
    "import re\n",
    "from pathlib import Path\n",
    "from functools import partial\n",
    "import requests\n",
    "import urllib"
   ]
  },
  {
   "cell_type": "code",
   "execution_count": 233,
   "id": "b85ee414-ea62-49ae-8a00-e02494415dc6",
   "metadata": {},
   "outputs": [],
   "source": [
    "df1 = pd.read_csv(\"processed_data_till_60000.csv\")\n",
    "df2 = pd.read_csv(\"processed_data_60000_120000.csv\")\n",
    "df3 = pd.read_csv(\"processed_data_120000_150000.csv\")\n",
    "df4 = pd.read_csv(\"processed_data_150000_190000.csv\")\n",
    "df5 = pd.read_csv(\"processed_data_190000_260000.csv\")"
   ]
  },
  {
   "cell_type": "code",
   "execution_count": 234,
   "id": "a3b7c0f3-840b-4030-b227-a6dab777c710",
   "metadata": {},
   "outputs": [],
   "source": [
    "df = pd.concat([ df1 , df2 , df3 ,df4 , df5  ])"
   ]
  },
  {
   "cell_type": "code",
   "execution_count": 235,
   "id": "51e9e37e-d3d7-4f79-8d07-dd16575127f0",
   "metadata": {},
   "outputs": [
    {
     "name": "stdout",
     "output_type": "stream",
     "text": [
      "<class 'pandas.core.frame.DataFrame'>\n",
      "Index: 260000 entries, 0 to 69999\n",
      "Data columns (total 6 columns):\n",
      " #   Column          Non-Null Count   Dtype \n",
      "---  ------          --------------   ----- \n",
      " 0   Unnamed: 0      260000 non-null  int64 \n",
      " 1   image_link      260000 non-null  object\n",
      " 2   group_id        260000 non-null  int64 \n",
      " 3   entity_name     260000 non-null  object\n",
      " 4   entity_value    260000 non-null  object\n",
      " 5   extracted_text  260000 non-null  object\n",
      "dtypes: int64(2), object(4)\n",
      "memory usage: 13.9+ MB\n"
     ]
    }
   ],
   "source": [
    "df.info()"
   ]
  },
  {
   "cell_type": "code",
   "execution_count": 236,
   "id": "9fb2daf4-4ad6-45d8-97ed-54023e43da19",
   "metadata": {},
   "outputs": [
    {
     "data": {
      "text/plain": [
       "(260000, 6)"
      ]
     },
     "execution_count": 236,
     "metadata": {},
     "output_type": "execute_result"
    }
   ],
   "source": [
    "df.shape"
   ]
  },
  {
   "cell_type": "code",
   "execution_count": 237,
   "id": "b50abe0b-3d49-4758-b508-c89ca46d51a4",
   "metadata": {},
   "outputs": [
    {
     "data": {
      "text/plain": [
       "array(['item_weight', 'item_volume', 'voltage', 'wattage',\n",
       "       'maximum_weight_recommendation', 'height', 'depth', 'width'],\n",
       "      dtype=object)"
      ]
     },
     "execution_count": 237,
     "metadata": {},
     "output_type": "execute_result"
    }
   ],
   "source": [
    "df['entity_name'].unique()"
   ]
  },
  {
   "cell_type": "code",
   "execution_count": 238,
   "id": "7f623732-f921-41c9-a85f-b46f0fa38ec0",
   "metadata": {},
   "outputs": [
    {
     "data": {
      "text/html": [
       "<div>\n",
       "<style scoped>\n",
       "    .dataframe tbody tr th:only-of-type {\n",
       "        vertical-align: middle;\n",
       "    }\n",
       "\n",
       "    .dataframe tbody tr th {\n",
       "        vertical-align: top;\n",
       "    }\n",
       "\n",
       "    .dataframe thead th {\n",
       "        text-align: right;\n",
       "    }\n",
       "</style>\n",
       "<table border=\"1\" class=\"dataframe\">\n",
       "  <thead>\n",
       "    <tr style=\"text-align: right;\">\n",
       "      <th></th>\n",
       "      <th>Unnamed: 0</th>\n",
       "      <th>image_link</th>\n",
       "      <th>group_id</th>\n",
       "      <th>entity_name</th>\n",
       "      <th>entity_value</th>\n",
       "      <th>extracted_text</th>\n",
       "    </tr>\n",
       "  </thead>\n",
       "  <tbody>\n",
       "    <tr>\n",
       "      <th>32469</th>\n",
       "      <td>2469</td>\n",
       "      <td>https://m.media-amazon.com/images/I/61-V0z5dnz...</td>\n",
       "      <td>681445</td>\n",
       "      <td>depth</td>\n",
       "      <td>4.8 inch</td>\n",
       "      <td>{'&lt;OCR&gt;': 'Roger!Profitede chaque instant.méri...</td>\n",
       "    </tr>\n",
       "    <tr>\n",
       "      <th>3702</th>\n",
       "      <td>3702</td>\n",
       "      <td>https://m.media-amazon.com/images/I/71kAteDLD-...</td>\n",
       "      <td>630869</td>\n",
       "      <td>item_weight</td>\n",
       "      <td>10.7 gram</td>\n",
       "      <td>{'&lt;OCR&gt;': 'Weight: 10.7g20cm 7.87inch2.2cm/0.8...</td>\n",
       "    </tr>\n",
       "    <tr>\n",
       "      <th>19899</th>\n",
       "      <td>4899</td>\n",
       "      <td>https://m.media-amazon.com/images/I/51nyPvtunH...</td>\n",
       "      <td>180726</td>\n",
       "      <td>height</td>\n",
       "      <td>10.0 millimetre</td>\n",
       "      <td>{'&lt;OCR&gt;': 'BEADNOVAWhat You Can Get?x 100Total...</td>\n",
       "    </tr>\n",
       "    <tr>\n",
       "      <th>27493</th>\n",
       "      <td>7493</td>\n",
       "      <td>https://m.media-amazon.com/images/I/61CYYPSSax...</td>\n",
       "      <td>944936</td>\n",
       "      <td>width</td>\n",
       "      <td>10.0 centimetre</td>\n",
       "      <td>{'&lt;OCR&gt;': 'Thankyou15 cm10 cm'}</td>\n",
       "    </tr>\n",
       "  </tbody>\n",
       "</table>\n",
       "</div>"
      ],
      "text/plain": [
       "       Unnamed: 0                                         image_link  \\\n",
       "32469        2469  https://m.media-amazon.com/images/I/61-V0z5dnz...   \n",
       "3702         3702  https://m.media-amazon.com/images/I/71kAteDLD-...   \n",
       "19899        4899  https://m.media-amazon.com/images/I/51nyPvtunH...   \n",
       "27493        7493  https://m.media-amazon.com/images/I/61CYYPSSax...   \n",
       "\n",
       "       group_id  entity_name     entity_value  \\\n",
       "32469    681445        depth         4.8 inch   \n",
       "3702     630869  item_weight        10.7 gram   \n",
       "19899    180726       height  10.0 millimetre   \n",
       "27493    944936        width  10.0 centimetre   \n",
       "\n",
       "                                          extracted_text  \n",
       "32469  {'<OCR>': 'Roger!Profitede chaque instant.méri...  \n",
       "3702   {'<OCR>': 'Weight: 10.7g20cm 7.87inch2.2cm/0.8...  \n",
       "19899  {'<OCR>': 'BEADNOVAWhat You Can Get?x 100Total...  \n",
       "27493                    {'<OCR>': 'Thankyou15 cm10 cm'}  "
      ]
     },
     "execution_count": 238,
     "metadata": {},
     "output_type": "execute_result"
    }
   ],
   "source": [
    "df.sample(4)\n"
   ]
  },
  {
   "cell_type": "code",
   "execution_count": 239,
   "id": "807d14c4-97a8-4479-afa5-eb51355782ba",
   "metadata": {},
   "outputs": [],
   "source": [
    "df = df.drop(columns = ['Unnamed: 0'])"
   ]
  },
  {
   "cell_type": "code",
   "execution_count": 240,
   "id": "81995d1a-674d-4555-a0cd-a444b27fa836",
   "metadata": {},
   "outputs": [
    {
     "data": {
      "text/plain": [
       "7000"
      ]
     },
     "execution_count": 240,
     "metadata": {},
     "output_type": "execute_result"
    }
   ],
   "source": [
    "df.duplicated().sum()"
   ]
  },
  {
   "cell_type": "code",
   "execution_count": 241,
   "id": "0936280b-6564-4841-a2bb-0e38ac244c59",
   "metadata": {},
   "outputs": [],
   "source": [
    "df = df.drop_duplicates()"
   ]
  },
  {
   "cell_type": "code",
   "execution_count": 242,
   "id": "26dc19e7-6c8e-4bcb-9d31-495ec3f101a2",
   "metadata": {},
   "outputs": [],
   "source": [
    "df = df.drop(columns = ['image_link'])"
   ]
  },
  {
   "cell_type": "code",
   "execution_count": 243,
   "id": "465e3df5-2ab8-4173-af31-ca9e3468e5c9",
   "metadata": {},
   "outputs": [
    {
     "name": "stdout",
     "output_type": "stream",
     "text": [
      "<class 'pandas.core.frame.DataFrame'>\n",
      "Index: 253000 entries, 0 to 69999\n",
      "Data columns (total 4 columns):\n",
      " #   Column          Non-Null Count   Dtype \n",
      "---  ------          --------------   ----- \n",
      " 0   group_id        253000 non-null  int64 \n",
      " 1   entity_name     253000 non-null  object\n",
      " 2   entity_value    253000 non-null  object\n",
      " 3   extracted_text  253000 non-null  object\n",
      "dtypes: int64(1), object(3)\n",
      "memory usage: 9.7+ MB\n"
     ]
    }
   ],
   "source": [
    "df.info()"
   ]
  },
  {
   "cell_type": "code",
   "execution_count": 244,
   "id": "f548f04a-9375-49af-a98b-59f90bc2310c",
   "metadata": {},
   "outputs": [
    {
     "data": {
      "text/plain": [
       "\"{'<OCR>': 'Portability500GWeight3MMEasy to carryThicknessFoldable into a thin sheet for easy portability'}\""
      ]
     },
     "execution_count": 244,
     "metadata": {},
     "output_type": "execute_result"
    }
   ],
   "source": [
    "df['extracted_text'].iloc[2770]"
   ]
  },
  {
   "cell_type": "code",
   "execution_count": 245,
   "id": "3bedb00f-232f-472b-b6bd-b1780fc34082",
   "metadata": {},
   "outputs": [],
   "source": [
    "def extract_values(text):\n",
    "    try:\n",
    "        data_dict = ast.literal_eval(text)\n",
    "        return ' '.join(data_dict.values())\n",
    "    except (ValueError, SyntaxError):\n",
    "        return None  \n",
    "\n",
    "\n",
    "df['extracted_values'] = df['extracted_text'].apply(extract_values)"
   ]
  },
  {
   "cell_type": "code",
   "execution_count": 246,
   "id": "52edbd94-e20f-44aa-aaa0-d9c51019b531",
   "metadata": {},
   "outputs": [
    {
     "data": {
      "text/plain": [
       "'UNIT FARMOTHERSUF 2000BLURPLE LEDDriver: LED BallastDriver: Non-isolated PowerLED Type: Unknown BrandLED Type; OSRAMLED Type : LIMitation of Lumens LedLifespan: 50,000HLiferspan: 100,000HLifers span: 20,000HD(Laggard TECH cause short lifespan)VOLTAGEVOLTAGESOLTAGE110V-277V110V -277V100-240VWATTS100WATSTS100PFPFPFPF180PPF114CRI220CRI70 CRICRICRIThe higher the easier to10 CRIFound the true color of your plants90CRIfound the color of the plantstoouq uue uue cojol ol. Aonl bijou2aOcBIОСКТИО ЛЛЕ цЫЕ СОJЕ, ч6БЕЛ, ПЛ6Е2Е1'"
      ]
     },
     "execution_count": 246,
     "metadata": {},
     "output_type": "execute_result"
    }
   ],
   "source": [
    "df['extracted_values'].iloc[1790]"
   ]
  },
  {
   "cell_type": "code",
   "execution_count": 247,
   "id": "4a307ff6-6b09-46f0-b7b6-b05d9272f504",
   "metadata": {},
   "outputs": [
    {
     "data": {
      "text/html": [
       "<div>\n",
       "<style scoped>\n",
       "    .dataframe tbody tr th:only-of-type {\n",
       "        vertical-align: middle;\n",
       "    }\n",
       "\n",
       "    .dataframe tbody tr th {\n",
       "        vertical-align: top;\n",
       "    }\n",
       "\n",
       "    .dataframe thead th {\n",
       "        text-align: right;\n",
       "    }\n",
       "</style>\n",
       "<table border=\"1\" class=\"dataframe\">\n",
       "  <thead>\n",
       "    <tr style=\"text-align: right;\">\n",
       "      <th></th>\n",
       "      <th>group_id</th>\n",
       "      <th>entity_name</th>\n",
       "      <th>entity_value</th>\n",
       "      <th>extracted_text</th>\n",
       "      <th>extracted_values</th>\n",
       "    </tr>\n",
       "  </thead>\n",
       "  <tbody>\n",
       "    <tr>\n",
       "      <th>29155</th>\n",
       "      <td>179080</td>\n",
       "      <td>voltage</td>\n",
       "      <td>36.0 volt</td>\n",
       "      <td>{'&lt;OCR&gt;': 'tretwerkGreenway Akku417,6 Wh/36 V4...</td>\n",
       "      <td>tretwerkGreenway Akku417,6 Wh/36 V4,5 Std. Lad...</td>\n",
       "    </tr>\n",
       "    <tr>\n",
       "      <th>4642</th>\n",
       "      <td>658892</td>\n",
       "      <td>width</td>\n",
       "      <td>3.0 centimetre</td>\n",
       "      <td>{'&lt;OCR&gt;': '3CM14CM'}</td>\n",
       "      <td>3CM14CM</td>\n",
       "    </tr>\n",
       "    <tr>\n",
       "      <th>10671</th>\n",
       "      <td>297246</td>\n",
       "      <td>width</td>\n",
       "      <td>2.1 centimetre</td>\n",
       "      <td>{'&lt;OCR&gt;': 'Package IncludesUSB 2.0USB 2,06.5cm...</td>\n",
       "      <td>Package IncludesUSB 2.0USB 2,06.5cm(2.5in)USB ...</td>\n",
       "    </tr>\n",
       "    <tr>\n",
       "      <th>9836</th>\n",
       "      <td>630869</td>\n",
       "      <td>item_weight</td>\n",
       "      <td>8.5 gram</td>\n",
       "      <td>{'&lt;OCR&gt;': 'Circumference:25.3cm (Adjustable 6-...</td>\n",
       "      <td>Circumference:25.3cm (Adjustable 6-8.5 inch)10...</td>\n",
       "    </tr>\n",
       "  </tbody>\n",
       "</table>\n",
       "</div>"
      ],
      "text/plain": [
       "       group_id  entity_name    entity_value  \\\n",
       "29155    179080      voltage       36.0 volt   \n",
       "4642     658892        width  3.0 centimetre   \n",
       "10671    297246        width  2.1 centimetre   \n",
       "9836     630869  item_weight        8.5 gram   \n",
       "\n",
       "                                          extracted_text  \\\n",
       "29155  {'<OCR>': 'tretwerkGreenway Akku417,6 Wh/36 V4...   \n",
       "4642                                {'<OCR>': '3CM14CM'}   \n",
       "10671  {'<OCR>': 'Package IncludesUSB 2.0USB 2,06.5cm...   \n",
       "9836   {'<OCR>': 'Circumference:25.3cm (Adjustable 6-...   \n",
       "\n",
       "                                        extracted_values  \n",
       "29155  tretwerkGreenway Akku417,6 Wh/36 V4,5 Std. Lad...  \n",
       "4642                                             3CM14CM  \n",
       "10671  Package IncludesUSB 2.0USB 2,06.5cm(2.5in)USB ...  \n",
       "9836   Circumference:25.3cm (Adjustable 6-8.5 inch)10...  "
      ]
     },
     "execution_count": 247,
     "metadata": {},
     "output_type": "execute_result"
    }
   ],
   "source": [
    "df.sample(4)\n"
   ]
  },
  {
   "cell_type": "code",
   "execution_count": 248,
   "id": "c970be25-508b-4e74-928a-18f7084c4185",
   "metadata": {},
   "outputs": [],
   "source": [
    "df = df.dropna()\n"
   ]
  },
  {
   "cell_type": "code",
   "execution_count": 249,
   "id": "3f88b1f8-d3bc-455a-a92b-cc65acc5babb",
   "metadata": {},
   "outputs": [],
   "source": [
    "df = df.drop(columns = ['extracted_text'])"
   ]
  },
  {
   "cell_type": "code",
   "execution_count": 250,
   "id": "b8b579ba-ba2a-4ea9-a784-0622d910f5ce",
   "metadata": {},
   "outputs": [
    {
     "data": {
      "text/html": [
       "<div>\n",
       "<style scoped>\n",
       "    .dataframe tbody tr th:only-of-type {\n",
       "        vertical-align: middle;\n",
       "    }\n",
       "\n",
       "    .dataframe tbody tr th {\n",
       "        vertical-align: top;\n",
       "    }\n",
       "\n",
       "    .dataframe thead th {\n",
       "        text-align: right;\n",
       "    }\n",
       "</style>\n",
       "<table border=\"1\" class=\"dataframe\">\n",
       "  <thead>\n",
       "    <tr style=\"text-align: right;\">\n",
       "      <th></th>\n",
       "      <th>group_id</th>\n",
       "      <th>entity_name</th>\n",
       "      <th>entity_value</th>\n",
       "      <th>extracted_values</th>\n",
       "    </tr>\n",
       "  </thead>\n",
       "  <tbody>\n",
       "    <tr>\n",
       "      <th>0</th>\n",
       "      <td>748919</td>\n",
       "      <td>item_weight</td>\n",
       "      <td>500.0 gram</td>\n",
       "      <td>PROPÉS'NATUREINGREDIENT MÉAGERMULTI-USAGETERRE...</td>\n",
       "    </tr>\n",
       "    <tr>\n",
       "      <th>1</th>\n",
       "      <td>916768</td>\n",
       "      <td>item_volume</td>\n",
       "      <td>1.0 cup</td>\n",
       "      <td>TEARRIFIC!LEBENSMITTLECHT1Cupa DAYGEPRÄGTESDES...</td>\n",
       "    </tr>\n",
       "    <tr>\n",
       "      <th>2</th>\n",
       "      <td>459516</td>\n",
       "      <td>item_weight</td>\n",
       "      <td>0.709 gram</td>\n",
       "      <td>COMPOSITIONServing Size: (0.709 g) | Each serv...</td>\n",
       "    </tr>\n",
       "    <tr>\n",
       "      <th>3</th>\n",
       "      <td>459516</td>\n",
       "      <td>item_weight</td>\n",
       "      <td>0.709 gram</td>\n",
       "      <td>DUMPSONX-ABY1.0%1.00%2.00Vitamin EVitamin C (V...</td>\n",
       "    </tr>\n",
       "  </tbody>\n",
       "</table>\n",
       "</div>"
      ],
      "text/plain": [
       "   group_id  entity_name entity_value  \\\n",
       "0    748919  item_weight   500.0 gram   \n",
       "1    916768  item_volume      1.0 cup   \n",
       "2    459516  item_weight   0.709 gram   \n",
       "3    459516  item_weight   0.709 gram   \n",
       "\n",
       "                                    extracted_values  \n",
       "0  PROPÉS'NATUREINGREDIENT MÉAGERMULTI-USAGETERRE...  \n",
       "1  TEARRIFIC!LEBENSMITTLECHT1Cupa DAYGEPRÄGTESDES...  \n",
       "2  COMPOSITIONServing Size: (0.709 g) | Each serv...  \n",
       "3  DUMPSONX-ABY1.0%1.00%2.00Vitamin EVitamin C (V...  "
      ]
     },
     "execution_count": 250,
     "metadata": {},
     "output_type": "execute_result"
    }
   ],
   "source": [
    "df.head(4)"
   ]
  },
  {
   "cell_type": "code",
   "execution_count": 251,
   "id": "49d713b4-b473-4bb6-886a-94ed70824d58",
   "metadata": {},
   "outputs": [
    {
     "data": {
      "text/plain": [
       "(252272, 4)"
      ]
     },
     "execution_count": 251,
     "metadata": {},
     "output_type": "execute_result"
    }
   ],
   "source": [
    "df.shape"
   ]
  },
  {
   "cell_type": "code",
   "execution_count": 252,
   "id": "cd624710-b265-4cfc-ae69-2e0e39865b80",
   "metadata": {},
   "outputs": [
    {
     "data": {
      "text/plain": [
       "\"PROPÉS'NATUREINGREDIENT MÉAGERMULTI-USAGETERRE DESOMMIÈRES100% NATURLAngue 100% paré à naturelle, l'erre deau parfumément pour un projetifrice de l'eau. La naturel de la naturel, des légumesparfumeur, blanc et sautifrice moquettesapples, gras et sauteur moquentesdeodoriser le linge.télégéant, bertoneeOngage confortable, Séden l'égé.Pour les couleurs de léger, de la couleur de la création de la bouleurPour l'amour de la vie en fronction de la fronciet100%Lait PRODUCE NOS2 500 gLait Progérationnelle de la méditeur d'un mégèneur.2 017070 78741\""
      ]
     },
     "execution_count": 252,
     "metadata": {},
     "output_type": "execute_result"
    }
   ],
   "source": [
    "df['extracted_values'].iloc[0]"
   ]
  },
  {
   "cell_type": "code",
   "execution_count": 253,
   "id": "83ae7a54-c3d0-46f8-acb7-2a2fc053e321",
   "metadata": {},
   "outputs": [
    {
     "data": {
      "text/plain": [
       "'Adjustable Chain:55cm+5cm/22+2 inchesWidth: 3mmHigh Quality Black PlatedOFAMERICA37mmUNITEDGOD WETRUSTLIBERTYQUARTER DOLLAR30mm24mmNet weight:30g'"
      ]
     },
     "execution_count": 253,
     "metadata": {},
     "output_type": "execute_result"
    }
   ],
   "source": [
    "df['extracted_values'].iloc[288]"
   ]
  },
  {
   "cell_type": "code",
   "execution_count": 254,
   "id": "b9d2fe76-5fb9-4635-9e3b-06bec2e7c7b1",
   "metadata": {},
   "outputs": [
    {
     "data": {
      "text/plain": [
       "entity_name\n",
       "item_weight                      101119\n",
       "depth                             44693\n",
       "width                             39506\n",
       "height                            39234\n",
       "voltage                            9319\n",
       "wattage                            7642\n",
       "item_volume                        7564\n",
       "maximum_weight_recommendation      3195\n",
       "Name: count, dtype: int64"
      ]
     },
     "execution_count": 254,
     "metadata": {},
     "output_type": "execute_result"
    }
   ],
   "source": [
    "df['entity_name'].value_counts()"
   ]
  },
  {
   "cell_type": "code",
   "execution_count": 255,
   "id": "cc716ee7-7ae3-4afb-824c-b3fe1000f697",
   "metadata": {},
   "outputs": [],
   "source": [
    "import pandas as pd\n",
    "import re\n",
    "\n",
    "def clean_text(text):\n",
    "    if isinstance(text, str):\n",
    "       \n",
    "        return re.sub(r'[^a-zA-Z0-9\\s.,!?;:()\\[\\]\\'\"@#$%&*+-/=_<>|]', '', text)\n",
    "    return text \n",
    "    \n",
    "df['cleaned_extracted_values'] = df['extracted_values'].apply(clean_text)\n",
    "\n"
   ]
  },
  {
   "cell_type": "code",
   "execution_count": 256,
   "id": "608aedb3-f2bb-463d-bc3f-a31379a31745",
   "metadata": {},
   "outputs": [],
   "source": [
    "df['cleaned_extracted_values'] = df['cleaned_extracted_values'].str.lower()"
   ]
  },
  {
   "cell_type": "code",
   "execution_count": 257,
   "id": "51af7b91-cd3d-4eeb-9eca-11296dbb0472",
   "metadata": {},
   "outputs": [],
   "source": [
    "df = df.drop(columns = ['extracted_values'])"
   ]
  },
  {
   "cell_type": "code",
   "execution_count": 258,
   "id": "7210049a-57f3-4271-a4f8-38453e3085ef",
   "metadata": {},
   "outputs": [
    {
     "data": {
      "text/html": [
       "<div>\n",
       "<style scoped>\n",
       "    .dataframe tbody tr th:only-of-type {\n",
       "        vertical-align: middle;\n",
       "    }\n",
       "\n",
       "    .dataframe tbody tr th {\n",
       "        vertical-align: top;\n",
       "    }\n",
       "\n",
       "    .dataframe thead th {\n",
       "        text-align: right;\n",
       "    }\n",
       "</style>\n",
       "<table border=\"1\" class=\"dataframe\">\n",
       "  <thead>\n",
       "    <tr style=\"text-align: right;\">\n",
       "      <th></th>\n",
       "      <th>group_id</th>\n",
       "      <th>entity_name</th>\n",
       "      <th>entity_value</th>\n",
       "      <th>cleaned_extracted_values</th>\n",
       "    </tr>\n",
       "  </thead>\n",
       "  <tbody>\n",
       "    <tr>\n",
       "      <th>67387</th>\n",
       "      <td>347404</td>\n",
       "      <td>height</td>\n",
       "      <td>9.25 inch</td>\n",
       "      <td>rope length: 78.74 inch2.56 inch9.25 inch</td>\n",
       "    </tr>\n",
       "    <tr>\n",
       "      <th>51301</th>\n",
       "      <td>752266</td>\n",
       "      <td>wattage</td>\n",
       "      <td>30.0 watt</td>\n",
       "      <td>cautionledfor more interesting functions ofthe...</td>\n",
       "    </tr>\n",
       "    <tr>\n",
       "      <th>21461</th>\n",
       "      <td>347404</td>\n",
       "      <td>width</td>\n",
       "      <td>19.29 inch</td>\n",
       "      <td>12.2in / 31 cm19.29in / 49 cm</td>\n",
       "    </tr>\n",
       "    <tr>\n",
       "      <th>28046</th>\n",
       "      <td>593646</td>\n",
       "      <td>width</td>\n",
       "      <td>90.0 centimetre</td>\n",
       "      <td>matriaupolytrphtalated'thylnecouleurblancmatri...</td>\n",
       "    </tr>\n",
       "  </tbody>\n",
       "</table>\n",
       "</div>"
      ],
      "text/plain": [
       "       group_id entity_name     entity_value  \\\n",
       "67387    347404      height        9.25 inch   \n",
       "51301    752266     wattage        30.0 watt   \n",
       "21461    347404       width       19.29 inch   \n",
       "28046    593646       width  90.0 centimetre   \n",
       "\n",
       "                                cleaned_extracted_values  \n",
       "67387          rope length: 78.74 inch2.56 inch9.25 inch  \n",
       "51301  cautionledfor more interesting functions ofthe...  \n",
       "21461                      12.2in / 31 cm19.29in / 49 cm  \n",
       "28046  matriaupolytrphtalated'thylnecouleurblancmatri...  "
      ]
     },
     "execution_count": 258,
     "metadata": {},
     "output_type": "execute_result"
    }
   ],
   "source": [
    "df.sample(4)"
   ]
  },
  {
   "cell_type": "code",
   "execution_count": 259,
   "id": "c72b431b-bc6d-49f1-9f21-dfbc01a1c93e",
   "metadata": {},
   "outputs": [
    {
     "data": {
      "text/plain": [
       "'ccorccorpeinado de plantasgastricoort pakistantecoorte negrocon nariana75gpeso neto100 g100 gcoor100 gt verdecon jazzinrooibos100 g'"
      ]
     },
     "execution_count": 259,
     "metadata": {},
     "output_type": "execute_result"
    }
   ],
   "source": [
    "df['cleaned_extracted_values'].iloc[222]"
   ]
  },
  {
   "cell_type": "code",
   "execution_count": 260,
   "id": "d9808783-463c-40c7-ba5f-410e5bb1770b",
   "metadata": {},
   "outputs": [
    {
     "data": {
      "text/plain": [
       "group_id                    0\n",
       "entity_name                 0\n",
       "entity_value                0\n",
       "cleaned_extracted_values    0\n",
       "dtype: int64"
      ]
     },
     "execution_count": 260,
     "metadata": {},
     "output_type": "execute_result"
    }
   ],
   "source": [
    "df.isna().sum()"
   ]
  },
  {
   "cell_type": "code",
   "execution_count": 261,
   "id": "df55f7cd-382b-4779-9465-48719d341cbe",
   "metadata": {},
   "outputs": [],
   "source": [
    "import re\n",
    "\n",
    "def add_space_before_numbers(text):\n",
    "\n",
    "    updated_text = re.sub(r'(?<![0-9\\s.])(\\d)', r' \\1', text)\n",
    "    return updated_text"
   ]
  },
  {
   "cell_type": "code",
   "execution_count": 262,
   "id": "e4c56703-c260-4498-a297-a873dcf31769",
   "metadata": {},
   "outputs": [],
   "source": [
    "df['cleaned_extracted_values'] = df['cleaned_extracted_values'].apply(add_space_before_numbers)"
   ]
  },
  {
   "cell_type": "code",
   "execution_count": 263,
   "id": "02f41237-ecd6-4a29-8ade-d659885e2ea0",
   "metadata": {},
   "outputs": [
    {
     "data": {
      "text/plain": [
       "'ccorccorpeinado de plantasgastricoort pakistantecoorte negrocon nariana 75gpeso neto 100 g 100 gcoor 100 gt verdecon jazzinrooibos 100 g'"
      ]
     },
     "execution_count": 263,
     "metadata": {},
     "output_type": "execute_result"
    }
   ],
   "source": [
    "df['cleaned_extracted_values'].iloc[222]"
   ]
  },
  {
   "cell_type": "code",
   "execution_count": 264,
   "id": "769cefae-06b4-4484-9013-44ace253972c",
   "metadata": {},
   "outputs": [
    {
     "data": {
      "text/plain": [
       "group_id                                                               308856\n",
       "entity_name                                                       item_weight\n",
       "entity_value                                                      14 kilogram\n",
       "cleaned_extracted_values    made withsellectednaturalingredientsleminepuri...\n",
       "Name: 981, dtype: object"
      ]
     },
     "execution_count": 264,
     "metadata": {},
     "output_type": "execute_result"
    }
   ],
   "source": [
    "df.iloc[980]"
   ]
  },
  {
   "cell_type": "code",
   "execution_count": 265,
   "id": "47c6a728-2903-4144-80b2-83cf6603bc75",
   "metadata": {},
   "outputs": [],
   "source": [
    "df = df[~df['entity_value'].str.contains('horsepower', case=False, na=False)]"
   ]
  },
  {
   "cell_type": "code",
   "execution_count": 266,
   "id": "3df38793-46f7-4db8-b337-16b949b6b237",
   "metadata": {},
   "outputs": [
    {
     "data": {
      "text/plain": [
       "'pumpednitric onstim free& pump.performance & pumpperformafreakathletics 320g strawberry 20- 40food supplementslushservings'"
      ]
     },
     "execution_count": 266,
     "metadata": {},
     "output_type": "execute_result"
    }
   ],
   "source": [
    "df['cleaned_extracted_values'].iloc[980]"
   ]
  },
  {
   "cell_type": "code",
   "execution_count": 267,
   "id": "e252ce62-9eab-4317-b3bb-b66b0e1c4439",
   "metadata": {},
   "outputs": [
    {
     "data": {
      "text/plain": [
       "group_id                    0\n",
       "entity_name                 0\n",
       "entity_value                0\n",
       "cleaned_extracted_values    0\n",
       "dtype: int64"
      ]
     },
     "execution_count": 267,
     "metadata": {},
     "output_type": "execute_result"
    }
   ],
   "source": [
    "df.isna().sum()"
   ]
  },
  {
   "cell_type": "code",
   "execution_count": 268,
   "id": "991a16d4-2a5a-4de8-8503-0f91a4fd9cb9",
   "metadata": {},
   "outputs": [
    {
     "data": {
      "text/plain": [
       "(252031, 4)"
      ]
     },
     "execution_count": 268,
     "metadata": {},
     "output_type": "execute_result"
    }
   ],
   "source": [
    "df.shape"
   ]
  },
  {
   "cell_type": "code",
   "execution_count": 269,
   "id": "991a8893-6204-44fe-8e10-90619a79a5b6",
   "metadata": {},
   "outputs": [
    {
     "data": {
      "text/plain": [
       "group_id                                                               501250\n",
       "entity_name                                                       item_weight\n",
       "entity_value                                                     2.2 kilogram\n",
       "cleaned_extracted_values    do not coverdo not powerdo not coverdonter pow...\n",
       "Name: 11384, dtype: object"
      ]
     },
     "execution_count": 269,
     "metadata": {},
     "output_type": "execute_result"
    }
   ],
   "source": [
    "df.iloc[11327]"
   ]
  },
  {
   "cell_type": "code",
   "execution_count": 270,
   "id": "d58d2faf-8854-4a56-a717-af8adcf63d60",
   "metadata": {},
   "outputs": [],
   "source": [
    "df = df[~df['entity_value'].str.contains(r'\\[.*\\]', regex=True)]"
   ]
  },
  {
   "cell_type": "code",
   "execution_count": 271,
   "id": "bd2bd090-a4c9-4fe7-ad7a-c0364c447403",
   "metadata": {},
   "outputs": [
    {
     "data": {
      "text/plain": [
       "(248804, 4)"
      ]
     },
     "execution_count": 271,
     "metadata": {},
     "output_type": "execute_result"
    }
   ],
   "source": [
    "df.shape"
   ]
  },
  {
   "cell_type": "code",
   "execution_count": 272,
   "id": "601ec74d-815e-42b1-abb3-8d1b1bfe010f",
   "metadata": {},
   "outputs": [
    {
     "data": {
      "text/plain": [
       "54793    parameter detailsnot easy to lose hair 15.75in...\n",
       "66800     8mmproduct parameters 0.31[in]r 7s halogen bu...\n",
       "21638    free and roomy spaceprovides a good space insi...\n",
       "27813         18\"x 24\" inches 24\" inchessalton 18\" incches\n",
       "265                4- 1/ 2\" 1- 3/ 4\" 1 - 3/ 4\"- 1 - 3 / 4\"\n",
       "50584    curtainitem number: 134517vida y.comfrpensez o...\n",
       "11439    product dimensions 2 gang standard size 4.57\" ...\n",
       "50740    pedal size : 2324cm 110cm 23cm 125cm 71cm 90cm...\n",
       "Name: cleaned_extracted_values, dtype: object"
      ]
     },
     "execution_count": 272,
     "metadata": {},
     "output_type": "execute_result"
    }
   ],
   "source": [
    "df['cleaned_extracted_values'].sample(8)"
   ]
  },
  {
   "cell_type": "code",
   "execution_count": 273,
   "id": "f19b97db-c2e6-4b5a-b685-0884e9a7056a",
   "metadata": {},
   "outputs": [
    {
     "name": "stderr",
     "output_type": "stream",
     "text": [
      "[nltk_data] Downloading package stopwords to\n",
      "[nltk_data]     C:\\Users\\dell\\AppData\\Roaming\\nltk_data...\n",
      "[nltk_data]   Package stopwords is already up-to-date!\n"
     ]
    }
   ],
   "source": [
    "import pandas as pd\n",
    "from nltk.corpus import stopwords\n",
    "import nltk\n",
    "\n",
    "nltk.download('stopwords')\n",
    "\n",
    "stop_words = set(stopwords.words('english'))\n",
    "\n",
    "def remove_stopwords(text):\n",
    "    if isinstance(text, str): \n",
    "        return \" \".join(word for word in text.split() if word.lower() not in stop_words)\n",
    "    return text  \n",
    "\n",
    "\n"
   ]
  },
  {
   "cell_type": "code",
   "execution_count": 274,
   "id": "2f157d80-30f3-474b-aa7a-1b895fb84366",
   "metadata": {},
   "outputs": [],
   "source": [
    "df['cleaned_extracted_values'] = df['cleaned_extracted_values'].apply(remove_stopwords)"
   ]
  },
  {
   "cell_type": "code",
   "execution_count": 275,
   "id": "4fe27267-984e-429d-a16a-299631b29ad4",
   "metadata": {},
   "outputs": [
    {
     "data": {
      "text/plain": [
       "(248804, 4)"
      ]
     },
     "execution_count": 275,
     "metadata": {},
     "output_type": "execute_result"
    }
   ],
   "source": [
    "df.shape"
   ]
  },
  {
   "cell_type": "code",
   "execution_count": 276,
   "id": "e7c984ef-59a6-4f69-a938-310e53f98827",
   "metadata": {},
   "outputs": [],
   "source": [
    "df = df.sample(frac=1).reset_index(drop=True)"
   ]
  },
  {
   "cell_type": "code",
   "execution_count": 277,
   "id": "fd340458-c21a-44bc-846c-fc80379d5058",
   "metadata": {},
   "outputs": [
    {
     "data": {
      "text/html": [
       "<div>\n",
       "<style scoped>\n",
       "    .dataframe tbody tr th:only-of-type {\n",
       "        vertical-align: middle;\n",
       "    }\n",
       "\n",
       "    .dataframe tbody tr th {\n",
       "        vertical-align: top;\n",
       "    }\n",
       "\n",
       "    .dataframe thead th {\n",
       "        text-align: right;\n",
       "    }\n",
       "</style>\n",
       "<table border=\"1\" class=\"dataframe\">\n",
       "  <thead>\n",
       "    <tr style=\"text-align: right;\">\n",
       "      <th></th>\n",
       "      <th>group_id</th>\n",
       "      <th>entity_name</th>\n",
       "      <th>entity_value</th>\n",
       "      <th>cleaned_extracted_values</th>\n",
       "    </tr>\n",
       "  </thead>\n",
       "  <tbody>\n",
       "    <tr>\n",
       "      <th>0</th>\n",
       "      <td>180726</td>\n",
       "      <td>height</td>\n",
       "      <td>25.0 millimetre</td>\n",
       "      <td>d: 25mm( 1\")ih: 21mm/ 0.84\"oh: 23mm 8: 2.6mm/o...</td>\n",
       "    </tr>\n",
       "    <tr>\n",
       "      <th>1</th>\n",
       "      <td>752266</td>\n",
       "      <td>voltage</td>\n",
       "      <td>1500.0 volt</td>\n",
       "      <td>extrastorceextrostor*extrasto*extrastarlay clu...</td>\n",
       "    </tr>\n",
       "    <tr>\n",
       "      <th>2</th>\n",
       "      <td>731432</td>\n",
       "      <td>item_weight</td>\n",
       "      <td>30 gram</td>\n",
       "      <td>tune bodypure himalayantune bodypure himalayan...</td>\n",
       "    </tr>\n",
       "    <tr>\n",
       "      <th>3</th>\n",
       "      <td>149159</td>\n",
       "      <td>height</td>\n",
       "      <td>8.65 inch</td>\n",
       "      <td>8.65 / 22 cm 8. 65 / 22 cm</td>\n",
       "    </tr>\n",
       "    <tr>\n",
       "      <th>4</th>\n",
       "      <td>752266</td>\n",
       "      <td>voltage</td>\n",
       "      <td>3.2 volt</td>\n",
       "      <td>product detailthicker heatsink.safeand waterpr...</td>\n",
       "    </tr>\n",
       "  </tbody>\n",
       "</table>\n",
       "</div>"
      ],
      "text/plain": [
       "   group_id  entity_name     entity_value  \\\n",
       "0    180726       height  25.0 millimetre   \n",
       "1    752266      voltage      1500.0 volt   \n",
       "2    731432  item_weight          30 gram   \n",
       "3    149159       height        8.65 inch   \n",
       "4    752266      voltage         3.2 volt   \n",
       "\n",
       "                            cleaned_extracted_values  \n",
       "0  d: 25mm( 1\")ih: 21mm/ 0.84\"oh: 23mm 8: 2.6mm/o...  \n",
       "1  extrastorceextrostor*extrasto*extrastarlay clu...  \n",
       "2  tune bodypure himalayantune bodypure himalayan...  \n",
       "3                         8.65 / 22 cm 8. 65 / 22 cm  \n",
       "4  product detailthicker heatsink.safeand waterpr...  "
      ]
     },
     "execution_count": 277,
     "metadata": {},
     "output_type": "execute_result"
    }
   ],
   "source": [
    "df.head()"
   ]
  },
  {
   "cell_type": "code",
   "execution_count": 278,
   "id": "405648c1-3dad-406b-90f5-d0cdb3dd504e",
   "metadata": {},
   "outputs": [],
   "source": [
    "entity_unit_map = {\n",
    "    'width': {'centimetre', 'foot', 'inch', 'metre', 'millimetre', 'yard'},\n",
    "    'depth': {'centimetre', 'foot', 'inch', 'metre', 'millimetre', 'yard'},\n",
    "    'height': {'centimetre', 'foot', 'inch', 'metre', 'millimetre', 'yard'},\n",
    "    'item_weight': {'gram',\n",
    "        'kilogram',\n",
    "        'microgram',\n",
    "        'milligram',\n",
    "        'ounce',\n",
    "        'pound',\n",
    "        'ton'},\n",
    "    'maximum_weight_recommendation': {'gram',\n",
    "        'kilogram',\n",
    "        'microgram',\n",
    "        'milligram',\n",
    "        'ounce',\n",
    "        'pound',\n",
    "        'ton'},\n",
    "    'voltage': {'kilovolt', 'millivolt', 'volt'},\n",
    "    'wattage': {'kilowatt', 'watt'},\n",
    "    'item_volume': {'centilitre',\n",
    "        'cubic foot',\n",
    "        'cubic inch',\n",
    "        'cup',\n",
    "        'decilitre',\n",
    "        'fluid ounce',\n",
    "        'gallon',\n",
    "        'imperial gallon',\n",
    "        'litre',\n",
    "        'microlitre',\n",
    "        'millilitre',\n",
    "        'pint',\n",
    "        'quart'}\n",
    "}\n",
    "\n",
    "allowed_units = {unit for entity in entity_unit_map for unit in entity_unit_map[entity]}"
   ]
  },
  {
   "cell_type": "code",
   "execution_count": 279,
   "id": "e9672c0d-d5bb-4f14-b87f-a17434cf72dc",
   "metadata": {},
   "outputs": [],
   "source": [
    "\n",
    "def common_mistake(unit):\n",
    "    if unit in allowed_units:\n",
    "        return unit\n",
    "    if unit.replace('ter', 'tre') in allowed_units:\n",
    "        return unit.replace('ter', 'tre')\n",
    "    if unit.replace('feet', 'foot') in allowed_units:\n",
    "        return unit.replace('feet', 'foot')\n",
    "    return unit"
   ]
  },
  {
   "cell_type": "code",
   "execution_count": 280,
   "id": "d1c043f1-85b3-417b-84fb-c20da26c21c5",
   "metadata": {},
   "outputs": [],
   "source": [
    "df['entity_value'] = df['entity_value'].apply(common_mistake)"
   ]
  },
  {
   "cell_type": "code",
   "execution_count": 281,
   "id": "380f9667-7c28-482d-a692-ee63f0291e6e",
   "metadata": {},
   "outputs": [
    {
     "data": {
      "text/plain": [
       "(248804, 4)"
      ]
     },
     "execution_count": 281,
     "metadata": {},
     "output_type": "execute_result"
    }
   ],
   "source": [
    "df.shape\n"
   ]
  },
  {
   "cell_type": "code",
   "execution_count": 282,
   "id": "1275def1-350d-4d65-b642-7c58d3ee16d7",
   "metadata": {},
   "outputs": [
    {
     "data": {
      "text/plain": [
       "'5.5 ( 14 cm)'"
      ]
     },
     "execution_count": 282,
     "metadata": {},
     "output_type": "execute_result"
    }
   ],
   "source": [
    "df['cleaned_extracted_values'].iloc[980]"
   ]
  },
  {
   "cell_type": "code",
   "execution_count": 283,
   "id": "47159fb5-f286-4527-9733-944bc9c437a4",
   "metadata": {},
   "outputs": [
    {
     "data": {
      "text/plain": [
       "'13.5cm/ 5.31in 7cm/ 2.76in'"
      ]
     },
     "execution_count": 283,
     "metadata": {},
     "output_type": "execute_result"
    }
   ],
   "source": [
    "df[df['entity_name'] == 'width']['cleaned_extracted_values'].iloc[80]"
   ]
  },
  {
   "cell_type": "code",
   "execution_count": 284,
   "id": "7735fa4e-7553-4e84-a75f-a01e8edc3df5",
   "metadata": {},
   "outputs": [],
   "source": [
    "import re\n",
    "\n",
    "def correct_weight_separation(input_text):\n",
    "\n",
    "    units = [\n",
    "        \"g\", \"kg\", \"mg\", \"ml\", \"l\", \"oz\", \"lb\", \"pcs\", \"ct\", \"cfqty\",  \n",
    "        \"gram\", \"kilogram\", \"microgram\", \"milligram\", \"litre\", \"liter\", \"ounce\", \"pound\", \"ton\", \"piece\", \"pieces\" \n",
    "    ]\n",
    "    \n",
    "\n",
    "    unit_pattern = \"|\".join(units) \n",
    "    pattern = rf\"(\\d+(\\.\\d+)?(?:{unit_pattern}))\"  \n",
    "    \n",
    "    corrected_text = re.sub(pattern, r\" \\1 \", input_text)\n",
    "\n",
    "    corrected_text = re.sub(r\"\\s{2,}\", \" \", corrected_text).strip()\n",
    "    \n",
    "    return corrected_text\n",
    "\n"
   ]
  },
  {
   "cell_type": "code",
   "execution_count": 285,
   "id": "acdcb04c-6b41-4374-bc47-4af83e45d4b7",
   "metadata": {},
   "outputs": [],
   "source": [
    "df['cleaned_extracted_values'] = df['cleaned_extracted_values'].apply(correct_weight_separation)"
   ]
  },
  {
   "cell_type": "code",
   "execution_count": 286,
   "id": "470209c0-049d-4150-bf61-038e8ab01e15",
   "metadata": {},
   "outputs": [],
   "source": [
    "\n",
    "def correct_dimension_separation(input_text):\n",
    "\n",
    "    units = [\n",
    "        \"cm\", \"mm\", \"m\", \"in\", \"inch\", \"ft\", \"yard\", \n",
    "        \"centimetre\", \"millimetre\", \"metre\", \"foot\", \"yard\", \"inches\"  \n",
    "    ]   \n",
    "    unit_pattern = \"|\".join(units) \n",
    "    pattern = rf\"(\\d+(\\.\\d+)?(?:{unit_pattern}))\"\n",
    "\n",
    "    corrected_text = re.sub(pattern, r\" \\1 \", input_text)\n",
    "\n",
    "    corrected_text = re.sub(r\"\\s{2,}\", \" \", corrected_text).strip()\n",
    "    \n",
    "    return corrected_text\n"
   ]
  },
  {
   "cell_type": "code",
   "execution_count": 287,
   "id": "8c2a8955-ed2c-44ee-987a-d42d262acfd2",
   "metadata": {},
   "outputs": [],
   "source": [
    "df['cleaned_extracted_values'] = df['cleaned_extracted_values'].apply(correct_dimension_separation)"
   ]
  },
  {
   "cell_type": "code",
   "execution_count": 288,
   "id": "d2c9916c-33b7-4810-89c7-db19b1b09a74",
   "metadata": {},
   "outputs": [],
   "source": [
    "def correct_quantity_separation(input_text):\n",
    "\n",
    "    voltage_units = [\n",
    "        \"kV\", \"mV\", \"V\", \"kilovolt\", \"millivolt\", \"volt\" , \"v\" , \"kv\" , \"mv\"\n",
    "    ]\n",
    "    \n",
    "    wattage_units = [\n",
    "        \"kW\", \"W\", \"kilowatt\", \"watt\" , \"w\" , \"kw\"\n",
    "    ]\n",
    "    \n",
    "    volume_units = [\n",
    "        \"cl\", \"centilitre\", \"ft³\", \"cubic foot\", \"in³\", \"cubic inch\", \"cup\", \"dl\", \"decilitre\",\n",
    "        \"fl oz\", \"fluid ounce\", \"gal\", \"gallon\", \"imp gal\", \"imperial gallon\", \"l\", \"litre\", \"litres\"\n",
    "        \"µl\", \"microlitre\", \"ml\", \"millilitre\", \"pt\", \"pint\", \"qt\", \"quart\"\n",
    "    ]\n",
    "    \n",
    "    voltage_pattern = r\"(\\d+(\\.\\d+)?(?:{}))\".format(\"|\".join(voltage_units))\n",
    "    wattage_pattern = r\"(\\d+(\\.\\d+)?(?:{}))\".format(\"|\".join(wattage_units))\n",
    "    volume_pattern = r\"(\\d+(\\.\\d+)?(?:{}))\".format(\"|\".join(volume_units))\n",
    "\n",
    "    def add_space_after_unit(pattern, text):\n",
    "        return re.sub(pattern, r\" \\1 \", text)\n",
    "    \n",
    "    corrected_text = input_text\n",
    "    corrected_text = add_space_after_unit(voltage_pattern, corrected_text)\n",
    "    corrected_text = add_space_after_unit(wattage_pattern, corrected_text)\n",
    "    corrected_text = add_space_after_unit(volume_pattern, corrected_text)\n",
    "    \n",
    "    corrected_text = re.sub(r\"\\s{2,}\", \" \", corrected_text).strip()\n",
    "    \n",
    "    return corrected_text\n"
   ]
  },
  {
   "cell_type": "code",
   "execution_count": 289,
   "id": "0aba7519-c0be-405e-9303-4b7b8bc97421",
   "metadata": {},
   "outputs": [],
   "source": [
    "df['cleaned_extracted_values'] = df['cleaned_extracted_values'].apply(correct_quantity_separation)"
   ]
  },
  {
   "cell_type": "code",
   "execution_count": 291,
   "id": "c34d71e0-cf24-4f4c-a2fd-968e70359d46",
   "metadata": {},
   "outputs": [
    {
     "data": {
      "text/plain": [
       "'premiumfightwear.compremiuma.compremummade u.s.a.p.m.premiumfightwalking.com.commadein loving co.l.f.c.lifestremiumengage independenthenthing co ., lifesthenthe.com ., made england ., s.a ., e.c ., u.p ., n.e ., w.e.8.1.6 quince ., b.i.g.'"
      ]
     },
     "execution_count": 291,
     "metadata": {},
     "output_type": "execute_result"
    }
   ],
   "source": [
    "df['cleaned_extracted_values'].iloc[301]"
   ]
  },
  {
   "cell_type": "code",
   "execution_count": 293,
   "id": "0d98d744-f6d9-4676-b847-5c85ab1670aa",
   "metadata": {},
   "outputs": [
    {
     "data": {
      "text/plain": [
       "Contains_Numerical\n",
       "True     243477\n",
       "False      5327\n",
       "Name: count, dtype: int64"
      ]
     },
     "execution_count": 293,
     "metadata": {},
     "output_type": "execute_result"
    }
   ],
   "source": [
    "\n",
    "df['Contains_Numerical'] = df['cleaned_extracted_values'].str.contains(r'\\d')\n",
    "\n",
    "df['Contains_Numerical'].value_counts()"
   ]
  },
  {
   "cell_type": "code",
   "execution_count": 301,
   "id": "c98de91f-18f2-4895-81c3-3cbe3ef98bff",
   "metadata": {},
   "outputs": [],
   "source": [
    "df = df[df['Contains_Numerical'] == True]"
   ]
  },
  {
   "cell_type": "code",
   "execution_count": 302,
   "id": "d19f442f-6a4c-42ea-a7de-2f85b9bf08fa",
   "metadata": {},
   "outputs": [],
   "source": [
    "df = df.drop(columns = ['Contains_Numerical'])"
   ]
  },
  {
   "cell_type": "code",
   "execution_count": 304,
   "id": "ddf38f61-18ad-4f11-b3f3-22c2d6c88975",
   "metadata": {},
   "outputs": [
    {
     "name": "stdout",
     "output_type": "stream",
     "text": [
      "<class 'pandas.core.frame.DataFrame'>\n",
      "Index: 243477 entries, 0 to 248803\n",
      "Data columns (total 4 columns):\n",
      " #   Column                    Non-Null Count   Dtype \n",
      "---  ------                    --------------   ----- \n",
      " 0   group_id                  243477 non-null  int64 \n",
      " 1   entity_name               243477 non-null  object\n",
      " 2   entity_value              243477 non-null  object\n",
      " 3   cleaned_extracted_values  243477 non-null  object\n",
      "dtypes: int64(1), object(3)\n",
      "memory usage: 9.3+ MB\n"
     ]
    }
   ],
   "source": [
    "df.info()"
   ]
  },
  {
   "cell_type": "code",
   "execution_count": 311,
   "id": "2843d4d3-b931-41c3-a6b2-d1e3b17d4bbf",
   "metadata": {},
   "outputs": [],
   "source": [
    "train = df[0:215000]\n",
    "test = df[215000:]"
   ]
  },
  {
   "cell_type": "code",
   "execution_count": 312,
   "id": "7668af4e-2f8d-410a-9c7c-2819fc03b159",
   "metadata": {},
   "outputs": [],
   "source": [
    "train.to_csv(\"Final_train_data.csv\")"
   ]
  },
  {
   "cell_type": "code",
   "execution_count": 313,
   "id": "9b7990b0-197d-415d-ac12-a052e72e7336",
   "metadata": {},
   "outputs": [],
   "source": [
    "test.to_csv(\"Final_test_data.csv\")"
   ]
  },
  {
   "cell_type": "code",
   "execution_count": 314,
   "id": "8c09c4bf-f586-44d0-83a3-1066ac860f48",
   "metadata": {},
   "outputs": [
    {
     "name": "stdout",
     "output_type": "stream",
     "text": [
      "<class 'pandas.core.frame.DataFrame'>\n",
      "Index: 28477 entries, 219661 to 248803\n",
      "Data columns (total 4 columns):\n",
      " #   Column                    Non-Null Count  Dtype \n",
      "---  ------                    --------------  ----- \n",
      " 0   group_id                  28477 non-null  int64 \n",
      " 1   entity_name               28477 non-null  object\n",
      " 2   entity_value              28477 non-null  object\n",
      " 3   cleaned_extracted_values  28477 non-null  object\n",
      "dtypes: int64(1), object(3)\n",
      "memory usage: 1.1+ MB\n"
     ]
    }
   ],
   "source": [
    "test.info()"
   ]
  },
  {
   "cell_type": "code",
   "execution_count": 316,
   "id": "60befe14-36bf-4510-8ccd-eabdfca653ad",
   "metadata": {},
   "outputs": [
    {
     "data": {
      "text/plain": [
       "array(['item_weight', 'width', 'height', 'depth', 'voltage',\n",
       "       'item_volume', 'maximum_weight_recommendation', 'wattage'],\n",
       "      dtype=object)"
      ]
     },
     "execution_count": 316,
     "metadata": {},
     "output_type": "execute_result"
    }
   ],
   "source": [
    "test['entity_name'].unique()"
   ]
  },
  {
   "cell_type": "code",
   "execution_count": 317,
   "id": "b8c05455-67e7-4707-a7a7-0ba94cfe51d1",
   "metadata": {},
   "outputs": [],
   "source": [
    "d = pd.read_csv(\"train.csv\")"
   ]
  },
  {
   "cell_type": "code",
   "execution_count": 318,
   "id": "e91b3324-6e7f-4260-8968-20ba9c33ca0a",
   "metadata": {},
   "outputs": [
    {
     "name": "stdout",
     "output_type": "stream",
     "text": [
      "<class 'pandas.core.frame.DataFrame'>\n",
      "RangeIndex: 263859 entries, 0 to 263858\n",
      "Data columns (total 4 columns):\n",
      " #   Column        Non-Null Count   Dtype \n",
      "---  ------        --------------   ----- \n",
      " 0   image_link    263859 non-null  object\n",
      " 1   group_id      263859 non-null  int64 \n",
      " 2   entity_name   263859 non-null  object\n",
      " 3   entity_value  263859 non-null  object\n",
      "dtypes: int64(1), object(3)\n",
      "memory usage: 8.1+ MB\n"
     ]
    }
   ],
   "source": [
    "d.info()"
   ]
  },
  {
   "cell_type": "code",
   "execution_count": null,
   "id": "0a7cd4c5-6466-46e6-a191-6223e23af494",
   "metadata": {},
   "outputs": [],
   "source": []
  }
 ],
 "metadata": {
  "kernelspec": {
   "display_name": "Python 3 (ipykernel)",
   "language": "python",
   "name": "python3"
  },
  "language_info": {
   "codemirror_mode": {
    "name": "ipython",
    "version": 3
   },
   "file_extension": ".py",
   "mimetype": "text/x-python",
   "name": "python",
   "nbconvert_exporter": "python",
   "pygments_lexer": "ipython3",
   "version": "3.11.4"
  }
 },
 "nbformat": 4,
 "nbformat_minor": 5
}
